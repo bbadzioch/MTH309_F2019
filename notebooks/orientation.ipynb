{
 "cells": [
  {
   "cell_type": "markdown",
   "metadata": {},
   "source": [
    "# Sign of a determinant"
   ]
  },
  {
   "cell_type": "markdown",
   "metadata": {},
   "source": [
    "Let ${\\bf v}_1$ and ${\\bf v}_2$ be two vectors in $\\mathbb{R}^2$, and let $M$ be the $2\\times 2$ matrix with \n",
    "${\\bf v}_1$ and ${\\bf v}_2$ as columns:\n",
    "\n",
    "$$M = \\begin{bmatrix}{\\bf v}_1 & {\\bf v}_2 \\end{bmatrix}$$\n",
    "\n",
    "Recall that the sign of the determinant of $M$ can be interpreted as follows:\n",
    "\n",
    "- If the vector ${\\bf v}_2$ is positioned in the counterclockwise direction from ${\\bf v}_1$ then $\\det M > 0$. \n",
    "- If the vector ${\\bf v}_2$ is positioned in the clockwise direction from ${\\bf v}_1$ then $\\det M < 0$. \n",
    "\n",
    "<img src=\"https://raw.githubusercontent.com/bbadzioch/MTH309_F2019/master/notebooks/orientation1.svg?sanitize=true\" style=\"width:650px; border:0px\">\n",
    "\n",
    "This observation has several applications in geometry and, in particular, it is often used in computations related to computer graphics. A few such applications are described below. "
   ]
  },
  {
   "cell_type": "markdown",
   "metadata": {},
   "source": [
    "## 1. Sides of a line\n",
    "\n",
    "For any two points $A$, $B$ on a plane there is a unique straight line passing through these points. Such line divides the plane into two half-planes. If $X$, $Y$ are points which do not belong to the line, then we can ask if these points are on the same side of the line (i.e. they belong to the same half-plane), or it they are on different sides. \n",
    "\n",
    "<img src=\"https://raw.githubusercontent.com/bbadzioch/MTH309_F2019/master/notebooks/orientation7.svg?sanitize=true\" style=\"width:450px; border:0px\">\n",
    "\n",
    "\n",
    "This problem can be solved as follows. \n",
    "\n",
    "* Let ${\\bf v }_{AB}$ denote the vector which starts at the point $A$ and ends at the point $B$. Similarly, denote by ${\\bf v }_{AX}$  the vector which starts at $A$ and ends at $X$, and by ${\\bf v }_{AY}$ the vector which starts \n",
    "at $A$ and ends at $Y$. \n",
    "\n",
    "* Let $M_X$, $M_Y$ be the $2\\times 2$ matrices given by \n",
    "$$M_X = \\begin{bmatrix}{\\bf v }_{AB} & {\\bf v }_{AX} \\end{bmatrix}\n",
    "\\hskip 10mm\n",
    "M_Y = \\begin{bmatrix}{\\bf v }_{AB} & {\\bf v }_{AY} \\end{bmatrix}$$\n",
    "  \n",
    "* If signs of $\\det M_X$ and $\\det M_Y$ are the same, then $X$ and $Y$ are on the same side of the line. If these determinants have different signs then these points are on different sides. \n",
    "\n",
    "<img src=\"https://raw.githubusercontent.com/bbadzioch/MTH309_F2019/master/notebooks/orientation2.svg?sanitize=true\" style=\"width:450px; border:0px\">\n",
    "\n",
    "This procedure works, because all vectors starting at the point $A$ and ending on one side of the line are positioned in the clockwise direction from the vector ${\\bf v }_{AB}$, while all vectors starting at $A$ and ending on the opposite side of the line are positioned in the counterclockwise direction from ${\\bf v }_{AB}$. "
   ]
  },
  {
   "cell_type": "markdown",
   "metadata": {},
   "source": [
    "### Example\n",
    "\n",
    "In the picture above we have:\n",
    "\n",
    "$$A = (-1, 0),\\ \\ \\ \\ B = (4, 2),\\ \\ \\ \\ X = (0, 3),\\ \\ \\ \\ Y = (2, -1)$$\n",
    "\n",
    "This gives:\n",
    "\n",
    "$$\n",
    "{\\bf v}_{AB}\n",
    "=\n",
    "\\begin{bmatrix}\n",
    "5 \\\\\n",
    "2 \\\\\n",
    "\\end{bmatrix},\n",
    "\\hskip 5mm\n",
    "{\\bf v}_{AX}\n",
    "=\n",
    "\\begin{bmatrix}\n",
    "1 \\\\\n",
    "3 \\\\\n",
    "\\end{bmatrix},\n",
    "\\hskip 5mm\n",
    "{\\bf v}_{AY}\n",
    "=\n",
    "\\begin{bmatrix}\n",
    "\\phantom{-}3 \\\\\n",
    "-1 \\\\\n",
    "\\end{bmatrix}\n",
    "$$\n",
    "\n",
    "Therefore \n",
    "$$\n",
    "\\det M_X\n",
    "= \n",
    "\\det\n",
    "\\begin{bmatrix}\n",
    "5 & 1 \\\\\n",
    "2 & 3 \\\\\n",
    "\\end{bmatrix}\n",
    "= 13\n",
    "\\hskip 10mm\n",
    "\\det M_Y\n",
    "= \n",
    "\\det\n",
    "\\begin{bmatrix}\n",
    "5 & \\phantom{-}3 \\\\\n",
    "2 & -1 \\\\\n",
    "\\end{bmatrix}\n",
    "= -11\n",
    "$$\n",
    "\n",
    "Since these two determinants have different signs, points $X$ and $Y$ are on different sides of the line passing through the points $A$ and $B$."
   ]
  },
  {
   "cell_type": "markdown",
   "metadata": {},
   "source": [
    "## 2. Intersection of  line segments\n",
    "\n",
    "Let $A$, $B$, $C$, $D$ be points on the plane. Let $AB$ denote the line segment joining the points \n",
    "$A$ and $B$ and $CD$ be the line segment joining the points $C$ and $D$: \n",
    "\n",
    "<img src=\"https://raw.githubusercontent.com/bbadzioch/MTH309_F2019/master/notebooks/orientation3.svg?sanitize=true\" style=\"width:350px; border:0px\">\n",
    "\n",
    "We can determine is the line segments $AB$ and $CD$ intersect or not as follows:\n",
    "\n",
    "* Check if the points  $A$ and $B$ are on different sides of the line passing through $C$ and $D$.\n",
    "* Check if the points  $C$ and $D$ are on different sides of the line passing through $A$ and $B$.\n",
    "\n",
    "We can verify these conditions using the procedure described in Part 1. \n",
    "If both of these conditions are satisfied then the line segments intersect. "
   ]
  },
  {
   "cell_type": "markdown",
   "metadata": {},
   "source": [
    "## 3. Detecting points inside a triangle. \n",
    "\n",
    "Let $A$, $B$, $C$ be points on the plane forming a triangle. Given a point $X$, we can determine if this point is inside or outside of the triangle as follows. \n",
    "\n",
    "* Check if the points $X$ and  $A$ on the same side of the line passing through $B$ and $C$.\n",
    "* Check if the points $X$ and  $B$ on the same side of the line passing through $A$ and $C$.\n",
    "* Check if the points $X$ and  $C$ on the same side of the line passing through $A$ and $B$.\n",
    "\n",
    "<img src=\"https://raw.githubusercontent.com/bbadzioch/MTH309_F2019/master/notebooks/orientation4.svg?sanitize=true\" style=\"width:350px; border:0px\">\n",
    "\n",
    "Again, we can use here the procedure described in Part 1 to verify these conditions.\n",
    "If all of these conditions are satisfied then the point $X$ is inside of the triangle \n",
    "$ABC$. Otherwise it is outside."
   ]
  },
  {
   "cell_type": "markdown",
   "metadata": {},
   "source": [
    "## 4. Detecting points inside a polygon\n",
    "\n",
    "\n",
    "Let $P$ be a polygon on the plane with some number of vertices, and let $X$ be point on the plane. \n",
    "We can determine if $X$ is inside or outside of the polygon as follows. \n",
    "\n",
    "* Select a point $Y$ which is outside of the polygon (for example, you can pick a point whose $x$-cordinate is larger than $x$-coordinates of all vertices of the polygon)\n",
    "* Check how many sides of the polygon are intersected by the line segment $XY$ (we can do it using the method from  Part 2). \n",
    "\n",
    "If the number of sides intersecting with $XY$ is odd, then the point $X$ is inside the polygon. Otherwise $X$ is outside.\n",
    "\n",
    "<img src=\"https://raw.githubusercontent.com/bbadzioch/MTH309_F2019/master/notebooks/orientation5.svg?sanitize=true\" style=\"width:300px; border:0px\">"
   ]
  },
  {
   "cell_type": "markdown",
   "metadata": {},
   "source": [
    "**Note:** In order to complete this procedure we also need to specify how to handle two special cases:\n",
    "\n",
    "1. It may happen that the line segment $XY$ passes though a vertex of the polygon. \n",
    "2. It may also happen a part of the segment $XY$ overlaps with one of the edges of the polygon. \n",
    "\n",
    "\n",
    "<img src=\"https://raw.githubusercontent.com/bbadzioch/MTH309_F2019/master/notebooks/orientation6.svg?sanitize=true\" style=\"width:600px; border:0px\">\n",
    "\n",
    "In the first case, we look at the two vertices of the polygon (marked blue in the picture) neighboring the intersecting vertex. If these vertices are on the same side of the line $XY$, we count the intersection point as a double intersection. If they are on the different sides, we count it as a single intersection. \n",
    "\n",
    "The second case is similar. We look at the two vertices of the polygon (marked blue in the picture) that are neighboring the intersecting edge. Again, we count the intersection as either a double or a single intersection depending if these vertices are on the same side or different sides of the line $XY$."
   ]
  }
 ],
 "metadata": {
  "kernelspec": {
   "display_name": "Python 3",
   "language": "python",
   "name": "python3"
  },
  "language_info": {
   "codemirror_mode": {
    "name": "ipython",
    "version": 3
   },
   "file_extension": ".py",
   "mimetype": "text/x-python",
   "name": "python",
   "nbconvert_exporter": "python",
   "pygments_lexer": "ipython3",
   "version": "3.7.1"
  }
 },
 "nbformat": 4,
 "nbformat_minor": 2
}
