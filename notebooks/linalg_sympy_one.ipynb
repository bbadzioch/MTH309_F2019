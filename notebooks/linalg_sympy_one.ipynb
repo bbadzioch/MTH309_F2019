{
 "cells": [
  {
   "cell_type": "markdown",
   "metadata": {},
   "source": [
    "# Linear algebra with Python and SymPy (part 1)"
   ]
  },
  {
   "cell_type": "markdown",
   "metadata": {},
   "source": [
    "SymPy is a Python module for performing symbolic computations. This notebook explain how use it to perform linear algebra computations."
   ]
  },
  {
   "cell_type": "markdown",
   "metadata": {},
   "source": [
    "Execute this cell to load SymPy: "
   ]
  },
  {
   "cell_type": "code",
   "execution_count": 202,
   "metadata": {},
   "outputs": [],
   "source": [
    "#load SymPy module content\n",
    "from sympy import *\n",
    "\n",
    "#this makes printouts of matrices and vectors more readeable:\n",
    "init_printing(use_latex='mathjax')"
   ]
  },
  {
   "cell_type": "markdown",
   "metadata": {},
   "source": [
    "## Constructions of matrices"
   ]
  },
  {
   "cell_type": "markdown",
   "metadata": {},
   "source": [
    "The simplest way to create a matrix is to lists its elements. Matrices are entered row by row. Each row must be enclosed in square brackets, and then the whole collection of rows is again enclosed in square brackets: "
   ]
  },
  {
   "cell_type": "code",
   "execution_count": 2,
   "metadata": {},
   "outputs": [
    {
     "data": {
      "text/latex": [
       "$$\\left[\\begin{matrix}1 & 2 & 3\\\\4 & 5 & 6\\\\7 & 8 & 9\\end{matrix}\\right]$$"
      ],
      "text/plain": [
       "⎡1  2  3⎤\n",
       "⎢       ⎥\n",
       "⎢4  5  6⎥\n",
       "⎢       ⎥\n",
       "⎣7  8  9⎦"
      ]
     },
     "execution_count": 2,
     "metadata": {},
     "output_type": "execute_result"
    }
   ],
   "source": [
    "A = Matrix([[1, 2, 3], [4, 5, 6], [7,8,9]])\n",
    "A #this displays the matrix"
   ]
  },
  {
   "cell_type": "markdown",
   "metadata": {},
   "source": [
    "**Note.** In order to create a matrix with one row we need to enclose it entires in double square brackets (one set indicating the beginning and the end of the row, and another enclosing the whole matrix:"
   ]
  },
  {
   "cell_type": "code",
   "execution_count": 3,
   "metadata": {},
   "outputs": [
    {
     "data": {
      "text/latex": [
       "$$\\left[\\begin{matrix}12 & 13 & 14\\end{matrix}\\right]$$"
      ],
      "text/plain": [
       "[12  13  14]"
      ]
     },
     "execution_count": 3,
     "metadata": {},
     "output_type": "execute_result"
    }
   ],
   "source": [
    "A = Matrix([[12, 13, 14]])\n",
    "A"
   ]
  },
  {
   "cell_type": "markdown",
   "metadata": {},
   "source": [
    "Using only one set of square brackets creates a column vector, i.e. a matrix with one column:"
   ]
  },
  {
   "cell_type": "code",
   "execution_count": 4,
   "metadata": {},
   "outputs": [
    {
     "data": {
      "text/latex": [
       "$$\\left[\\begin{matrix}12\\\\13\\\\14\\end{matrix}\\right]$$"
      ],
      "text/plain": [
       "⎡12⎤\n",
       "⎢  ⎥\n",
       "⎢13⎥\n",
       "⎢  ⎥\n",
       "⎣14⎦"
      ]
     },
     "execution_count": 4,
     "metadata": {},
     "output_type": "execute_result"
    }
   ],
   "source": [
    "v = Matrix([12, 13, 14])\n",
    "v"
   ]
  },
  {
   "cell_type": "markdown",
   "metadata": {},
   "source": [
    "### Entering fractions\n",
    "\n",
    "Say that we want to enter the matrix\n",
    "\n",
    "\\begin{equation*}\n",
    "\\begin{bmatrix}\n",
    "\\frac{1}{7} & -1 \\\\\n",
    "0 & -\\frac{1}{3} \\\\\n",
    "\\end{bmatrix}\n",
    "\\end{equation*}\n",
    "\n",
    "We can try to do it as follows:"
   ]
  },
  {
   "cell_type": "code",
   "execution_count": 5,
   "metadata": {},
   "outputs": [
    {
     "data": {
      "text/latex": [
       "$$\\left[\\begin{matrix}0.142857142857143 & -1\\\\0 & -0.333333333333333\\end{matrix}\\right]$$"
      ],
      "text/plain": [
       "⎡0.142857142857143          -1        ⎤\n",
       "⎢                                     ⎥\n",
       "⎣        0          -0.333333333333333⎦"
      ]
     },
     "execution_count": 5,
     "metadata": {},
     "output_type": "execute_result"
    }
   ],
   "source": [
    "B = Matrix([[1/7 , -1],[0, -1/3]])\n",
    "B"
   ]
  },
  {
   "cell_type": "markdown",
   "metadata": {},
   "source": [
    "As you see fractions got converted to decimals, and rounded up to some number of decimal digits. For some applications in this course this would be inconvenient, since we will want to work with fractions and keep their exact values. We can deal with this issue as follows:"
   ]
  },
  {
   "cell_type": "code",
   "execution_count": 6,
   "metadata": {},
   "outputs": [
    {
     "data": {
      "text/latex": [
       "$$\\left[\\begin{matrix}\\frac{1}{7} & -1\\\\0 & - \\frac{1}{3}\\end{matrix}\\right]$$"
      ],
      "text/plain": [
       "⎡1/7   -1 ⎤\n",
       "⎢         ⎥\n",
       "⎣ 0   -1/3⎦"
      ]
     },
     "execution_count": 6,
     "metadata": {},
     "output_type": "execute_result"
    }
   ],
   "source": [
    "B = Matrix([[Rational(1,7) , -1],[0, Rational(-1,3)]])\n",
    "B"
   ]
  },
  {
   "cell_type": "markdown",
   "metadata": {},
   "source": [
    "### Matrices of zeros and ones\n",
    "\n",
    "For larger matrices it is tedious to enter all their entries manually. It is often faster to create a base matrix whose entries are e.g. all zeros or all ones, and then modify entries of this matrix as needed. It is easy to create such base matrices of any size:"
   ]
  },
  {
   "cell_type": "markdown",
   "metadata": {},
   "source": [
    "- a zero matrix:"
   ]
  },
  {
   "cell_type": "code",
   "execution_count": 7,
   "metadata": {},
   "outputs": [
    {
     "data": {
      "text/latex": [
       "$$\\left[\\begin{matrix}0 & 0 & 0 & 0\\\\0 & 0 & 0 & 0\\\\0 & 0 & 0 & 0\\end{matrix}\\right]$$"
      ],
      "text/plain": [
       "⎡0  0  0  0⎤\n",
       "⎢          ⎥\n",
       "⎢0  0  0  0⎥\n",
       "⎢          ⎥\n",
       "⎣0  0  0  0⎦"
      ]
     },
     "execution_count": 7,
     "metadata": {},
     "output_type": "execute_result"
    }
   ],
   "source": [
    "C = zeros(3, 4)  # 3 rows, 4 columns\n",
    "C"
   ]
  },
  {
   "cell_type": "markdown",
   "metadata": {},
   "source": [
    "- a matrix of ones:"
   ]
  },
  {
   "cell_type": "code",
   "execution_count": 8,
   "metadata": {},
   "outputs": [
    {
     "data": {
      "text/latex": [
       "$$\\left[\\begin{matrix}1 & 1 & 1 & 1 & 1 & 1 & 1\\\\1 & 1 & 1 & 1 & 1 & 1 & 1\\end{matrix}\\right]$$"
      ],
      "text/plain": [
       "⎡1  1  1  1  1  1  1⎤\n",
       "⎢                   ⎥\n",
       "⎣1  1  1  1  1  1  1⎦"
      ]
     },
     "execution_count": 8,
     "metadata": {},
     "output_type": "execute_result"
    }
   ],
   "source": [
    "D = ones(2, 7) # 2 rows, 7 columns\n",
    "D"
   ]
  },
  {
   "cell_type": "markdown",
   "metadata": {},
   "source": [
    "### Diagonal matrices\n",
    "\n",
    "A diagonal matrix is a square matrix whose all entries outside its main diagonal are zeros. Such matrix can be created as follows: "
   ]
  },
  {
   "cell_type": "code",
   "execution_count": 9,
   "metadata": {},
   "outputs": [
    {
     "data": {
      "text/latex": [
       "$$\\left[\\begin{matrix}1 & 0 & 0 & 0\\\\0 & 2 & 0 & 0\\\\0 & 0 & 3 & 0\\\\0 & 0 & 0 & -3\\end{matrix}\\right]$$"
      ],
      "text/plain": [
       "⎡1  0  0  0 ⎤\n",
       "⎢           ⎥\n",
       "⎢0  2  0  0 ⎥\n",
       "⎢           ⎥\n",
       "⎢0  0  3  0 ⎥\n",
       "⎢           ⎥\n",
       "⎣0  0  0  -3⎦"
      ]
     },
     "execution_count": 9,
     "metadata": {},
     "output_type": "execute_result"
    }
   ],
   "source": [
    "D = diag(1, 2, 3, -3)\n",
    "D"
   ]
  },
  {
   "cell_type": "markdown",
   "metadata": {},
   "source": [
    "The identity matrix is a diagonal matrix whose all entries on the main diagonal are ones:"
   ]
  },
  {
   "cell_type": "code",
   "execution_count": 10,
   "metadata": {},
   "outputs": [
    {
     "data": {
      "text/latex": [
       "$$\\left[\\begin{matrix}1 & 0 & 0 & 0\\\\0 & 1 & 0 & 0\\\\0 & 0 & 1 & 0\\\\0 & 0 & 0 & 1\\end{matrix}\\right]$$"
      ],
      "text/plain": [
       "⎡1  0  0  0⎤\n",
       "⎢          ⎥\n",
       "⎢0  1  0  0⎥\n",
       "⎢          ⎥\n",
       "⎢0  0  1  0⎥\n",
       "⎢          ⎥\n",
       "⎣0  0  0  1⎦"
      ]
     },
     "execution_count": 10,
     "metadata": {},
     "output_type": "execute_result"
    }
   ],
   "source": [
    "I = eye(4) # 4x4 identity matrix\n",
    "I"
   ]
  },
  {
   "cell_type": "markdown",
   "metadata": {},
   "source": [
    "### Matrices from lists\n",
    "\n",
    "In some cases it may be convenient to enter all entries of a matrix as a list, and then to reshape this list into a matrix:"
   ]
  },
  {
   "cell_type": "code",
   "execution_count": 11,
   "metadata": {},
   "outputs": [
    {
     "data": {
      "text/latex": [
       "$$\\left [ 1, \\quad 2, \\quad 3, \\quad 4, \\quad 5, \\quad 6, \\quad 7, \\quad 8, \\quad 9, \\quad 10, \\quad 11, \\quad 12\\right ]$$"
      ],
      "text/plain": [
       "[1, 2, 3, 4, 5, 6, 7, 8, 9, 10, 11, 12]"
      ]
     },
     "execution_count": 11,
     "metadata": {},
     "output_type": "execute_result"
    }
   ],
   "source": [
    "#create a list of elements\n",
    "a = [1, 2, 3, 4, 5, 6, 7, 8, 9, 10, 11, 12]\n",
    "a"
   ]
  },
  {
   "cell_type": "code",
   "execution_count": 12,
   "metadata": {},
   "outputs": [
    {
     "data": {
      "text/latex": [
       "$$\\left[\\begin{matrix}1 & 2 & 3 & 4\\\\5 & 6 & 7 & 8\\\\9 & 10 & 11 & 12\\end{matrix}\\right]$$"
      ],
      "text/plain": [
       "⎡1  2   3   4 ⎤\n",
       "⎢             ⎥\n",
       "⎢5  6   7   8 ⎥\n",
       "⎢             ⎥\n",
       "⎣9  10  11  12⎦"
      ]
     },
     "execution_count": 12,
     "metadata": {},
     "output_type": "execute_result"
    }
   ],
   "source": [
    "#reshape the list into a 3x4 matrix\n",
    "A = Matrix(a).reshape(3, 4)\n",
    "A"
   ]
  },
  {
   "cell_type": "code",
   "execution_count": 13,
   "metadata": {},
   "outputs": [
    {
     "data": {
      "text/latex": [
       "$$\\left[\\begin{matrix}1 & 2 & 3 & 4 & 5 & 6\\\\7 & 8 & 9 & 10 & 11 & 12\\end{matrix}\\right]$$"
      ],
      "text/plain": [
       "⎡1  2  3  4   5   6 ⎤\n",
       "⎢                   ⎥\n",
       "⎣7  8  9  10  11  12⎦"
      ]
     },
     "execution_count": 13,
     "metadata": {},
     "output_type": "execute_result"
    }
   ],
   "source": [
    "#reshape the list into a 2x6 matrix\n",
    "B = Matrix(a).reshape(2, 6)\n",
    "B"
   ]
  },
  {
   "cell_type": "markdown",
   "metadata": {},
   "source": [
    "**Note 1.** Reshaping works only if the number of elements of the list is exactly equal to the number of entries of a matrix of specified dimensions."
   ]
  },
  {
   "cell_type": "markdown",
   "metadata": {},
   "source": [
    "**Note 2.** Reshaping makes consecutive chunks of a list into rows of a matrix. In order for such chunks to become columns of a matrix, we can apply transpose of a matrix, which makes rows into columns: "
   ]
  },
  {
   "cell_type": "code",
   "execution_count": 14,
   "metadata": {},
   "outputs": [
    {
     "data": {
      "text/latex": [
       "$$\\left[\\begin{matrix}1 & 2 & 3 & 4\\\\5 & 6 & 7 & 8\\\\9 & 10 & 11 & 12\\end{matrix}\\right]$$"
      ],
      "text/plain": [
       "⎡1  2   3   4 ⎤\n",
       "⎢             ⎥\n",
       "⎢5  6   7   8 ⎥\n",
       "⎢             ⎥\n",
       "⎣9  10  11  12⎦"
      ]
     },
     "execution_count": 14,
     "metadata": {},
     "output_type": "execute_result"
    }
   ],
   "source": [
    "A"
   ]
  },
  {
   "cell_type": "code",
   "execution_count": 15,
   "metadata": {},
   "outputs": [
    {
     "data": {
      "text/latex": [
       "$$\\left[\\begin{matrix}1 & 5 & 9\\\\2 & 6 & 10\\\\3 & 7 & 11\\\\4 & 8 & 12\\end{matrix}\\right]$$"
      ],
      "text/plain": [
       "⎡1  5  9 ⎤\n",
       "⎢        ⎥\n",
       "⎢2  6  10⎥\n",
       "⎢        ⎥\n",
       "⎢3  7  11⎥\n",
       "⎢        ⎥\n",
       "⎣4  8  12⎦"
      ]
     },
     "execution_count": 15,
     "metadata": {},
     "output_type": "execute_result"
    }
   ],
   "source": [
    "# B is the transpose of A, rows of A are columns of B\n",
    "B = A.T \n",
    "B"
   ]
  },
  {
   "cell_type": "markdown",
   "metadata": {},
   "source": [
    "## Matrix elements, rows, and columns"
   ]
  },
  {
   "cell_type": "markdown",
   "metadata": {},
   "source": [
    "Here is a sample matrix we will be working with:"
   ]
  },
  {
   "cell_type": "code",
   "execution_count": 16,
   "metadata": {},
   "outputs": [
    {
     "data": {
      "text/latex": [
       "$$\\left[\\begin{matrix}1 & 2 & 3\\\\4 & 5 & 6\\\\7 & 8 & 9\\end{matrix}\\right]$$"
      ],
      "text/plain": [
       "⎡1  2  3⎤\n",
       "⎢       ⎥\n",
       "⎢4  5  6⎥\n",
       "⎢       ⎥\n",
       "⎣7  8  9⎦"
      ]
     },
     "execution_count": 16,
     "metadata": {},
     "output_type": "execute_result"
    }
   ],
   "source": [
    "A = Matrix([[1, 2, 3], [4, 5, 6], [7,8,9]])\n",
    "A"
   ]
  },
  {
   "cell_type": "markdown",
   "metadata": {},
   "source": [
    "We can access elements of a matrix by specifying the row and column of the element. \n",
    "\n",
    "**Note.** In Python indexing starts with 0. Thus, the first row of a matrix has index 0, the second row has index 1 and so on. "
   ]
  },
  {
   "cell_type": "code",
   "execution_count": 17,
   "metadata": {},
   "outputs": [
    {
     "data": {
      "text/latex": [
       "$$4$$"
      ],
      "text/plain": [
       "4"
      ]
     },
     "execution_count": 17,
     "metadata": {},
     "output_type": "execute_result"
    }
   ],
   "source": [
    "A[1,0] #the element in row 1, column 0"
   ]
  },
  {
   "cell_type": "markdown",
   "metadata": {},
   "source": [
    "We can use this to modify elements of a matrix "
   ]
  },
  {
   "cell_type": "code",
   "execution_count": 18,
   "metadata": {},
   "outputs": [
    {
     "data": {
      "text/latex": [
       "$$\\left[\\begin{matrix}1 & 2 & 3\\\\4 & 100 & 6\\\\7 & 8 & 9\\end{matrix}\\right]$$"
      ],
      "text/plain": [
       "⎡1   2   3⎤\n",
       "⎢         ⎥\n",
       "⎢4  100  6⎥\n",
       "⎢         ⎥\n",
       "⎣7   8   9⎦"
      ]
     },
     "execution_count": 18,
     "metadata": {},
     "output_type": "execute_result"
    }
   ],
   "source": [
    "A[1,1] = 100\n",
    "A"
   ]
  },
  {
   "cell_type": "markdown",
   "metadata": {},
   "source": [
    "Accessing matrix rows:"
   ]
  },
  {
   "cell_type": "code",
   "execution_count": 19,
   "metadata": {},
   "outputs": [
    {
     "data": {
      "text/latex": [
       "$$\\left[\\begin{matrix}1 & 2 & 3\\end{matrix}\\right]$$"
      ],
      "text/plain": [
       "[1  2  3]"
      ]
     },
     "execution_count": 19,
     "metadata": {},
     "output_type": "execute_result"
    }
   ],
   "source": [
    "A[0, :]  # get row 0"
   ]
  },
  {
   "cell_type": "markdown",
   "metadata": {},
   "source": [
    "Accessing columns:"
   ]
  },
  {
   "cell_type": "code",
   "execution_count": 20,
   "metadata": {},
   "outputs": [
    {
     "data": {
      "text/latex": [
       "$$\\left[\\begin{matrix}3\\\\6\\\\9\\end{matrix}\\right]$$"
      ],
      "text/plain": [
       "⎡3⎤\n",
       "⎢ ⎥\n",
       "⎢6⎥\n",
       "⎢ ⎥\n",
       "⎣9⎦"
      ]
     },
     "execution_count": 20,
     "metadata": {},
     "output_type": "execute_result"
    }
   ],
   "source": [
    "A[:, 2]  # get column 2"
   ]
  },
  {
   "cell_type": "markdown",
   "metadata": {},
   "source": [
    "We can modify the whole row (or column) of a matrix at once:"
   ]
  },
  {
   "cell_type": "code",
   "execution_count": 21,
   "metadata": {},
   "outputs": [
    {
     "data": {
      "text/latex": [
       "$$\\left[\\begin{matrix}1 & 2 & 3\\\\4 & 100 & 6\\\\7 & 8 & 9\\end{matrix}\\right]$$"
      ],
      "text/plain": [
       "⎡1   2   3⎤\n",
       "⎢         ⎥\n",
       "⎢4  100  6⎥\n",
       "⎢         ⎥\n",
       "⎣7   8   9⎦"
      ]
     },
     "execution_count": 21,
     "metadata": {},
     "output_type": "execute_result"
    }
   ],
   "source": [
    "A"
   ]
  },
  {
   "cell_type": "code",
   "execution_count": 22,
   "metadata": {},
   "outputs": [
    {
     "data": {
      "text/latex": [
       "$$\\left[\\begin{matrix}-10 & -20 & -30\\end{matrix}\\right]$$"
      ],
      "text/plain": [
       "[-10  -20  -30]"
      ]
     },
     "execution_count": 22,
     "metadata": {},
     "output_type": "execute_result"
    }
   ],
   "source": [
    "w = Matrix([[-10, -20, -30]])\n",
    "w"
   ]
  },
  {
   "cell_type": "code",
   "execution_count": 23,
   "metadata": {},
   "outputs": [
    {
     "data": {
      "text/latex": [
       "$$\\left[\\begin{matrix}1 & 2 & 3\\\\4 & 100 & 6\\\\-10 & -20 & -30\\end{matrix}\\right]$$"
      ],
      "text/plain": [
       "⎡ 1    2    3 ⎤\n",
       "⎢             ⎥\n",
       "⎢ 4   100   6 ⎥\n",
       "⎢             ⎥\n",
       "⎣-10  -20  -30⎦"
      ]
     },
     "execution_count": 23,
     "metadata": {},
     "output_type": "execute_result"
    }
   ],
   "source": [
    "A[2, :] = w # make row 2 of A equal to w\n",
    "A"
   ]
  },
  {
   "cell_type": "markdown",
   "metadata": {},
   "source": [
    "## Inserting and  rows and columns"
   ]
  },
  {
   "cell_type": "markdown",
   "metadata": {},
   "source": [
    "Matrices can be modified by inserting into them some additional rows and columns. For example, we start with the following matrix:"
   ]
  },
  {
   "cell_type": "code",
   "execution_count": 24,
   "metadata": {},
   "outputs": [
    {
     "data": {
      "text/latex": [
       "$$\\left[\\begin{matrix}1 & 2 & 3\\\\4 & 5 & 6\\\\7 & 8 & 9\\end{matrix}\\right]$$"
      ],
      "text/plain": [
       "⎡1  2  3⎤\n",
       "⎢       ⎥\n",
       "⎢4  5  6⎥\n",
       "⎢       ⎥\n",
       "⎣7  8  9⎦"
      ]
     },
     "execution_count": 24,
     "metadata": {},
     "output_type": "execute_result"
    }
   ],
   "source": [
    "A = Matrix([[1, 2, 3], [4, 5, 6], [7,8,9]])\n",
    "A"
   ]
  },
  {
   "cell_type": "markdown",
   "metadata": {},
   "source": [
    "Assume the we want to insert the following column into this matrix:"
   ]
  },
  {
   "cell_type": "code",
   "execution_count": 25,
   "metadata": {},
   "outputs": [
    {
     "data": {
      "text/latex": [
       "$$\\left[\\begin{matrix}-1\\\\-2\\\\-3\\end{matrix}\\right]$$"
      ],
      "text/plain": [
       "⎡-1⎤\n",
       "⎢  ⎥\n",
       "⎢-2⎥\n",
       "⎢  ⎥\n",
       "⎣-3⎦"
      ]
     },
     "execution_count": 25,
     "metadata": {},
     "output_type": "execute_result"
    }
   ],
   "source": [
    "v = Matrix([-1, -2, -3]) # matrix with one column\n",
    "v"
   ]
  },
  {
   "cell_type": "markdown",
   "metadata": {},
   "source": [
    "This can be done as follows:"
   ]
  },
  {
   "cell_type": "code",
   "execution_count": 26,
   "metadata": {},
   "outputs": [
    {
     "data": {
      "text/latex": [
       "$$\\left[\\begin{matrix}1 & 2 & -1 & 3\\\\4 & 5 & -2 & 6\\\\7 & 8 & -3 & 9\\end{matrix}\\right]$$"
      ],
      "text/plain": [
       "⎡1  2  -1  3⎤\n",
       "⎢           ⎥\n",
       "⎢4  5  -2  6⎥\n",
       "⎢           ⎥\n",
       "⎣7  8  -3  9⎦"
      ]
     },
     "execution_count": 26,
     "metadata": {},
     "output_type": "execute_result"
    }
   ],
   "source": [
    "B = A.col_insert(2, v) # insert v as the column number 2\n",
    "B"
   ]
  },
  {
   "cell_type": "markdown",
   "metadata": {},
   "source": [
    "**Note.** Column insertion creates a new matrix, the matrix `A` remains unchanged:"
   ]
  },
  {
   "cell_type": "code",
   "execution_count": 27,
   "metadata": {},
   "outputs": [
    {
     "data": {
      "text/latex": [
       "$$\\left[\\begin{matrix}1 & 2 & 3\\\\4 & 5 & 6\\\\7 & 8 & 9\\end{matrix}\\right]$$"
      ],
      "text/plain": [
       "⎡1  2  3⎤\n",
       "⎢       ⎥\n",
       "⎢4  5  6⎥\n",
       "⎢       ⎥\n",
       "⎣7  8  9⎦"
      ]
     },
     "execution_count": 27,
     "metadata": {},
     "output_type": "execute_result"
    }
   ],
   "source": [
    "A"
   ]
  },
  {
   "cell_type": "markdown",
   "metadata": {},
   "source": [
    "Row insertion works the same way:"
   ]
  },
  {
   "cell_type": "code",
   "execution_count": 28,
   "metadata": {},
   "outputs": [
    {
     "data": {
      "text/latex": [
       "$$\\left[\\begin{matrix}100 & 200 & 300\\end{matrix}\\right]$$"
      ],
      "text/plain": [
       "[100  200  300]"
      ]
     },
     "execution_count": 28,
     "metadata": {},
     "output_type": "execute_result"
    }
   ],
   "source": [
    "C = Matrix([[100, 200, 300]]) # matrix with one row\n",
    "C"
   ]
  },
  {
   "cell_type": "code",
   "execution_count": 29,
   "metadata": {},
   "outputs": [
    {
     "data": {
      "text/latex": [
       "$$\\left[\\begin{matrix}1 & 2 & 3\\\\100 & 200 & 300\\\\4 & 5 & 6\\\\7 & 8 & 9\\end{matrix}\\right]$$"
      ],
      "text/plain": [
       "⎡ 1    2    3 ⎤\n",
       "⎢             ⎥\n",
       "⎢100  200  300⎥\n",
       "⎢             ⎥\n",
       "⎢ 4    5    6 ⎥\n",
       "⎢             ⎥\n",
       "⎣ 7    8    9 ⎦"
      ]
     },
     "execution_count": 29,
     "metadata": {},
     "output_type": "execute_result"
    }
   ],
   "source": [
    "A.row_insert(1, C) #insert C as the row number 1"
   ]
  },
  {
   "cell_type": "markdown",
   "metadata": {},
   "source": [
    "Row/column insertion works also with matrices consisting of more then one row or column:"
   ]
  },
  {
   "cell_type": "code",
   "execution_count": 30,
   "metadata": {},
   "outputs": [
    {
     "data": {
      "text/latex": [
       "$$\\left[\\begin{matrix}1 & 2 & 3\\\\4 & 5 & 6\\\\7 & 8 & 9\\end{matrix}\\right]$$"
      ],
      "text/plain": [
       "⎡1  2  3⎤\n",
       "⎢       ⎥\n",
       "⎢4  5  6⎥\n",
       "⎢       ⎥\n",
       "⎣7  8  9⎦"
      ]
     },
     "execution_count": 30,
     "metadata": {},
     "output_type": "execute_result"
    }
   ],
   "source": [
    "A"
   ]
  },
  {
   "cell_type": "code",
   "execution_count": 31,
   "metadata": {},
   "outputs": [
    {
     "data": {
      "text/latex": [
       "$$\\left[\\begin{matrix}1 & 0 & 0\\\\0 & 1 & 0\\\\0 & 0 & 1\\end{matrix}\\right]$$"
      ],
      "text/plain": [
       "⎡1  0  0⎤\n",
       "⎢       ⎥\n",
       "⎢0  1  0⎥\n",
       "⎢       ⎥\n",
       "⎣0  0  1⎦"
      ]
     },
     "execution_count": 31,
     "metadata": {},
     "output_type": "execute_result"
    }
   ],
   "source": [
    "I = eye(3)\n",
    "I"
   ]
  },
  {
   "cell_type": "markdown",
   "metadata": {},
   "source": [
    "Insert the matrix `I` into `A`, so that the first column of `I` becomes column number 3 of the new matrix:"
   ]
  },
  {
   "cell_type": "code",
   "execution_count": 32,
   "metadata": {},
   "outputs": [
    {
     "data": {
      "text/latex": [
       "$$\\left[\\begin{matrix}1 & 2 & 3 & 1 & 0 & 0\\\\4 & 5 & 6 & 0 & 1 & 0\\\\7 & 8 & 9 & 0 & 0 & 1\\end{matrix}\\right]$$"
      ],
      "text/plain": [
       "⎡1  2  3  1  0  0⎤\n",
       "⎢                ⎥\n",
       "⎢4  5  6  0  1  0⎥\n",
       "⎢                ⎥\n",
       "⎣7  8  9  0  0  1⎦"
      ]
     },
     "execution_count": 32,
     "metadata": {},
     "output_type": "execute_result"
    }
   ],
   "source": [
    "B = A.col_insert(3, eye(3))\n",
    "B"
   ]
  },
  {
   "cell_type": "markdown",
   "metadata": {},
   "source": [
    "## Deleting rows and columns"
   ]
  },
  {
   "cell_type": "markdown",
   "metadata": {},
   "source": [
    "Matrices can be also modified by deleting their rows and columns. Unlike row/column insertions, deletion modifies the original matrix: "
   ]
  },
  {
   "cell_type": "code",
   "execution_count": 33,
   "metadata": {},
   "outputs": [
    {
     "data": {
      "text/latex": [
       "$$\\left[\\begin{matrix}1 & 2 & 3\\\\4 & 5 & 6\\\\7 & 8 & 9\\\\10 & 11 & 12\\end{matrix}\\right]$$"
      ],
      "text/plain": [
       "⎡1   2   3 ⎤\n",
       "⎢          ⎥\n",
       "⎢4   5   6 ⎥\n",
       "⎢          ⎥\n",
       "⎢7   8   9 ⎥\n",
       "⎢          ⎥\n",
       "⎣10  11  12⎦"
      ]
     },
     "execution_count": 33,
     "metadata": {},
     "output_type": "execute_result"
    }
   ],
   "source": [
    "A = Matrix([[1, 2, 3], [4, 5, 6], [7,8,9], [10, 11, 12]])\n",
    "A"
   ]
  },
  {
   "cell_type": "code",
   "execution_count": 34,
   "metadata": {},
   "outputs": [
    {
     "data": {
      "text/latex": [
       "$$\\left[\\begin{matrix}4 & 5 & 6\\\\7 & 8 & 9\\\\10 & 11 & 12\\end{matrix}\\right]$$"
      ],
      "text/plain": [
       "⎡4   5   6 ⎤\n",
       "⎢          ⎥\n",
       "⎢7   8   9 ⎥\n",
       "⎢          ⎥\n",
       "⎣10  11  12⎦"
      ]
     },
     "execution_count": 34,
     "metadata": {},
     "output_type": "execute_result"
    }
   ],
   "source": [
    "A.row_del(0) #delete row 0\n",
    "A"
   ]
  },
  {
   "cell_type": "code",
   "execution_count": 35,
   "metadata": {},
   "outputs": [
    {
     "data": {
      "text/latex": [
       "$$\\left[\\begin{matrix}4 & 6\\\\7 & 9\\\\10 & 12\\end{matrix}\\right]$$"
      ],
      "text/plain": [
       "⎡4   6 ⎤\n",
       "⎢      ⎥\n",
       "⎢7   9 ⎥\n",
       "⎢      ⎥\n",
       "⎣10  12⎦"
      ]
     },
     "execution_count": 35,
     "metadata": {},
     "output_type": "execute_result"
    }
   ],
   "source": [
    "A.col_del(1) #delete column 1\n",
    "A"
   ]
  },
  {
   "cell_type": "markdown",
   "metadata": {},
   "source": [
    "## Elementary row and column operations"
   ]
  },
  {
   "cell_type": "markdown",
   "metadata": {},
   "source": [
    "We will work with the following matrix:"
   ]
  },
  {
   "cell_type": "code",
   "execution_count": 36,
   "metadata": {},
   "outputs": [
    {
     "data": {
      "text/latex": [
       "$$\\left[\\begin{matrix}0 & 1 & 2 & 3 & 4\\\\5 & 6 & 7 & 8 & 9\\\\9 & 10 & 11 & 12 & 13\\end{matrix}\\right]$$"
      ],
      "text/plain": [
       "⎡0  1   2   3   4 ⎤\n",
       "⎢                 ⎥\n",
       "⎢5  6   7   8   9 ⎥\n",
       "⎢                 ⎥\n",
       "⎣9  10  11  12  13⎦"
      ]
     },
     "execution_count": 36,
     "metadata": {},
     "output_type": "execute_result"
    }
   ],
   "source": [
    "A = Matrix([[0 , 1, 2, 3, 4], [5, 6, 7, 8, 9], [9, 10, 11, 12, 13]])\n",
    "A"
   ]
  },
  {
   "cell_type": "markdown",
   "metadata": {},
   "source": [
    "We will denote by R$_i$ the row number $i$ of the matrix (remember that in Python indexing starts with 0)."
   ]
  },
  {
   "cell_type": "markdown",
   "metadata": {},
   "source": [
    "Multiply  R$_1$ by $\\frac{1}{5}$:"
   ]
  },
  {
   "cell_type": "code",
   "execution_count": 37,
   "metadata": {},
   "outputs": [
    {
     "data": {
      "text/latex": [
       "$$\\left[\\begin{matrix}0 & 1 & 2 & 3 & 4\\\\1 & \\frac{6}{5} & \\frac{7}{5} & \\frac{8}{5} & \\frac{9}{5}\\\\9 & 10 & 11 & 12 & 13\\end{matrix}\\right]$$"
      ],
      "text/plain": [
       "⎡0   1    2    3    4 ⎤\n",
       "⎢                     ⎥\n",
       "⎢1  6/5  7/5  8/5  9/5⎥\n",
       "⎢                     ⎥\n",
       "⎣9  10   11   12   13 ⎦"
      ]
     },
     "execution_count": 37,
     "metadata": {},
     "output_type": "execute_result"
    }
   ],
   "source": [
    "A[1, :] = A[1, :]*Rational(1, 5)\n",
    "A"
   ]
  },
  {
   "cell_type": "markdown",
   "metadata": {},
   "source": [
    "Subtract 9R$_1$ from R$_2$:"
   ]
  },
  {
   "cell_type": "code",
   "execution_count": 38,
   "metadata": {},
   "outputs": [
    {
     "data": {
      "text/latex": [
       "$$\\left[\\begin{matrix}0 & 1 & 2 & 3 & 4\\\\1 & \\frac{6}{5} & \\frac{7}{5} & \\frac{8}{5} & \\frac{9}{5}\\\\0 & - \\frac{4}{5} & - \\frac{8}{5} & - \\frac{12}{5} & - \\frac{16}{5}\\end{matrix}\\right]$$"
      ],
      "text/plain": [
       "⎡0   1     2      3      4  ⎤\n",
       "⎢                           ⎥\n",
       "⎢1  6/5   7/5    8/5    9/5 ⎥\n",
       "⎢                           ⎥\n",
       "⎣0  -4/5  -8/5  -12/5  -16/5⎦"
      ]
     },
     "execution_count": 38,
     "metadata": {},
     "output_type": "execute_result"
    }
   ],
   "source": [
    "A[2, :] = A[2, :] - 9*A[1, :]\n",
    "A"
   ]
  },
  {
   "cell_type": "markdown",
   "metadata": {},
   "source": [
    "Interchange R$_0$ and R$_1$:"
   ]
  },
  {
   "cell_type": "code",
   "execution_count": 39,
   "metadata": {},
   "outputs": [
    {
     "data": {
      "text/latex": [
       "$$\\left[\\begin{matrix}1 & \\frac{6}{5} & \\frac{7}{5} & \\frac{8}{5} & \\frac{9}{5}\\\\0 & 1 & 2 & 3 & 4\\\\0 & - \\frac{4}{5} & - \\frac{8}{5} & - \\frac{12}{5} & - \\frac{16}{5}\\end{matrix}\\right]$$"
      ],
      "text/plain": [
       "⎡1  6/5   7/5    8/5    9/5 ⎤\n",
       "⎢                           ⎥\n",
       "⎢0   1     2      3      4  ⎥\n",
       "⎢                           ⎥\n",
       "⎣0  -4/5  -8/5  -12/5  -16/5⎦"
      ]
     },
     "execution_count": 39,
     "metadata": {},
     "output_type": "execute_result"
    }
   ],
   "source": [
    "A.row_swap(0,1)\n",
    "A"
   ]
  },
  {
   "cell_type": "markdown",
   "metadata": {},
   "source": [
    "Elementary operations on columns can be done in the same way. For example, here we interchange column 0 and column 1:"
   ]
  },
  {
   "cell_type": "code",
   "execution_count": 40,
   "metadata": {},
   "outputs": [
    {
     "data": {
      "text/latex": [
       "$$\\left[\\begin{matrix}\\frac{6}{5} & 1 & \\frac{7}{5} & \\frac{8}{5} & \\frac{9}{5}\\\\1 & 0 & 2 & 3 & 4\\\\- \\frac{4}{5} & 0 & - \\frac{8}{5} & - \\frac{12}{5} & - \\frac{16}{5}\\end{matrix}\\right]$$"
      ],
      "text/plain": [
       "⎡6/5   1  7/5    8/5    9/5 ⎤\n",
       "⎢                           ⎥\n",
       "⎢ 1    0   2      3      4  ⎥\n",
       "⎢                           ⎥\n",
       "⎣-4/5  0  -8/5  -12/5  -16/5⎦"
      ]
     },
     "execution_count": 40,
     "metadata": {},
     "output_type": "execute_result"
    }
   ],
   "source": [
    "A.col_swap(0,1)\n",
    "A"
   ]
  },
  {
   "cell_type": "markdown",
   "metadata": {},
   "source": [
    "## Row reduction"
   ]
  },
  {
   "cell_type": "code",
   "execution_count": 41,
   "metadata": {},
   "outputs": [
    {
     "data": {
      "text/latex": [
       "$$\\left[\\begin{matrix}1 & 2 & 3 & 12\\\\4 & 5 & 6 & 13\\\\7 & 8 & 9 & 14\\end{matrix}\\right]$$"
      ],
      "text/plain": [
       "⎡1  2  3  12⎤\n",
       "⎢           ⎥\n",
       "⎢4  5  6  13⎥\n",
       "⎢           ⎥\n",
       "⎣7  8  9  14⎦"
      ]
     },
     "execution_count": 41,
     "metadata": {},
     "output_type": "execute_result"
    }
   ],
   "source": [
    "A = Matrix([[1, 2, 3, 12], [4, 5, 6, 13], [7,8,9, 14]])\n",
    "A"
   ]
  },
  {
   "cell_type": "markdown",
   "metadata": {},
   "source": [
    "The function `rref()` computes the row reduced echelon form of a matrix:"
   ]
  },
  {
   "cell_type": "code",
   "execution_count": 42,
   "metadata": {},
   "outputs": [
    {
     "data": {
      "text/latex": [
       "$$\\left ( \\left[\\begin{matrix}1 & 0 & -1 & - \\frac{34}{3}\\\\0 & 1 & 2 & \\frac{35}{3}\\\\0 & 0 & 0 & 0\\end{matrix}\\right], \\quad \\left ( 0, \\quad 1\\right )\\right )$$"
      ],
      "text/plain": [
       "⎛⎡1  0  -1  -34/3⎤        ⎞\n",
       "⎜⎢               ⎥        ⎟\n",
       "⎜⎢0  1  2   35/3 ⎥, (0, 1)⎟\n",
       "⎜⎢               ⎥        ⎟\n",
       "⎝⎣0  0  0     0  ⎦        ⎠"
      ]
     },
     "execution_count": 42,
     "metadata": {},
     "output_type": "execute_result"
    }
   ],
   "source": [
    "R = A.rref()\n",
    "R"
   ]
  },
  {
   "cell_type": "markdown",
   "metadata": {},
   "source": [
    "**Note.** `A.rref()` returns a tuple consisting of a reduced matrix and a list with indices of pivot columns. To get the reduced matrix only we need to select the first entry of this tuple:"
   ]
  },
  {
   "cell_type": "code",
   "execution_count": 43,
   "metadata": {},
   "outputs": [
    {
     "data": {
      "text/latex": [
       "$$\\left[\\begin{matrix}1 & 0 & -1 & - \\frac{34}{3}\\\\0 & 1 & 2 & \\frac{35}{3}\\\\0 & 0 & 0 & 0\\end{matrix}\\right]$$"
      ],
      "text/plain": [
       "⎡1  0  -1  -34/3⎤\n",
       "⎢               ⎥\n",
       "⎢0  1  2   35/3 ⎥\n",
       "⎢               ⎥\n",
       "⎣0  0  0     0  ⎦"
      ]
     },
     "execution_count": 43,
     "metadata": {},
     "output_type": "execute_result"
    }
   ],
   "source": [
    "B = A.rref()[0]\n",
    "B"
   ]
  },
  {
   "cell_type": "markdown",
   "metadata": {},
   "source": [
    "### Errors in row reduction with decimals\n",
    "\n",
    "Here is an example showing that row reduction of matrices with decimal entries can give wrong results:"
   ]
  },
  {
   "cell_type": "code",
   "execution_count": 44,
   "metadata": {},
   "outputs": [
    {
     "data": {
      "text/latex": [
       "$$\\left[\\begin{matrix}1 & 1 & 1\\\\1 & 2 & 3\\\\0.2 & 0.3 & 0.4\\end{matrix}\\right]$$"
      ],
      "text/plain": [
       "⎡ 1    1    1 ⎤\n",
       "⎢             ⎥\n",
       "⎢ 1    2    3 ⎥\n",
       "⎢             ⎥\n",
       "⎣0.2  0.3  0.4⎦"
      ]
     },
     "execution_count": 44,
     "metadata": {},
     "output_type": "execute_result"
    }
   ],
   "source": [
    "A = Matrix([[1, 1, 1],[1, 2, 3],[0.2, 0.3, 0.4]])\n",
    "A"
   ]
  },
  {
   "cell_type": "code",
   "execution_count": 45,
   "metadata": {},
   "outputs": [
    {
     "data": {
      "text/latex": [
       "$$\\left ( \\left[\\begin{matrix}1 & 0 & 0\\\\0 & 1 & 0\\\\0 & 0 & 1\\end{matrix}\\right], \\quad \\left ( 0, \\quad 1, \\quad 2\\right )\\right )$$"
      ],
      "text/plain": [
       "⎛⎡1  0  0⎤           ⎞\n",
       "⎜⎢       ⎥           ⎟\n",
       "⎜⎢0  1  0⎥, (0, 1, 2)⎟\n",
       "⎜⎢       ⎥           ⎟\n",
       "⎝⎣0  0  1⎦           ⎠"
      ]
     },
     "execution_count": 45,
     "metadata": {},
     "output_type": "execute_result"
    }
   ],
   "source": [
    "A.rref() # the result is wrong!"
   ]
  },
  {
   "cell_type": "markdown",
   "metadata": {},
   "source": [
    "Such issues occur because computer operations on numbers in the decimal form involve rounding errors, which affect the result. \n",
    "\n",
    "We can avoid such problems by entering all entries of a matrix as rational numbers:"
   ]
  },
  {
   "cell_type": "code",
   "execution_count": 46,
   "metadata": {},
   "outputs": [
    {
     "data": {
      "text/latex": [
       "$$\\left[\\begin{matrix}1 & 1 & 1\\\\1 & 2 & 3\\\\\\frac{1}{5} & \\frac{3}{10} & \\frac{2}{5}\\end{matrix}\\right]$$"
      ],
      "text/plain": [
       "⎡ 1    1     1 ⎤\n",
       "⎢              ⎥\n",
       "⎢ 1    2     3 ⎥\n",
       "⎢              ⎥\n",
       "⎣1/5  3/10  2/5⎦"
      ]
     },
     "execution_count": 46,
     "metadata": {},
     "output_type": "execute_result"
    }
   ],
   "source": [
    "A = Matrix([[1, 1, 1],[1, 2, 3],[Rational(2,10), Rational(3,10), Rational(4,10)]])\n",
    "A"
   ]
  },
  {
   "cell_type": "markdown",
   "metadata": {},
   "source": [
    "Now the reduced echelon form is computed correctly:"
   ]
  },
  {
   "cell_type": "code",
   "execution_count": 47,
   "metadata": {},
   "outputs": [
    {
     "data": {
      "text/latex": [
       "$$\\left ( \\left[\\begin{matrix}1 & 0 & -1\\\\0 & 1 & 2\\\\0 & 0 & 0\\end{matrix}\\right], \\quad \\left ( 0, \\quad 1\\right )\\right )$$"
      ],
      "text/plain": [
       "⎛⎡1  0  -1⎤        ⎞\n",
       "⎜⎢        ⎥        ⎟\n",
       "⎜⎢0  1  2 ⎥, (0, 1)⎟\n",
       "⎜⎢        ⎥        ⎟\n",
       "⎝⎣0  0  0 ⎦        ⎠"
      ]
     },
     "execution_count": 47,
     "metadata": {},
     "output_type": "execute_result"
    }
   ],
   "source": [
    "A.rref()"
   ]
  },
  {
   "cell_type": "code",
   "execution_count": 220,
   "metadata": {
    "scrolled": false
   },
   "outputs": [
    {
     "data": {
      "text/html": [
       "<link href=\"https://fonts.googleapis.com/css?family=Merriweather:300,300i,400,400i,700,700i,900,900i\" rel='stylesheet' >\n",
       "<link href=\"https://fonts.googleapis.com/css?family=Source+Sans+Pro:300,300i,400,400i,700,700i\" rel='stylesheet' >\n",
       "<link href='http://fonts.googleapis.com/css?family=Source+Code+Pro:300,400' rel='stylesheet' >\n",
       "<style>\n",
       "@import url('https://fonts.googleapis.com/css?family=Quicksand:500');\n",
       "@font-face {\n",
       "    font-family: \"Computer Modern\";\n",
       "    src: url('http://mirrors.ctan.org/fonts/cm-unicode/fonts/otf/cmunss.otf');\n",
       "}\n",
       "\n",
       "\n",
       ".prompt {width: 0px;\n",
       "         min-width: 0px;\n",
       "         visibility: collapse\n",
       "}\n",
       "\n",
       "#notebook_panel { /* main background */\n",
       "    background: rgb(245,245,245);\n",
       "}\n",
       "\n",
       "div.cell { /* set cell width */\n",
       "    width: 850px;\n",
       "}\n",
       "\n",
       "div #notebook { /* centre the content */\n",
       "    background: #fff; /* white background for content */\n",
       "    width: 1000px;\n",
       "    margin: auto;\n",
       "    padding-left: 0em;\n",
       "}\n",
       "\n",
       "#notebook ul {\n",
       "  list-style: none; /* Remove default bullets */\n",
       "}\n",
       "\n",
       "#notebook ul li::before {\n",
       "  content: \"\\2022\";  /* Add content: \\2022 is the CSS Code/unicode for a bullet */\n",
       "  color: #9c2906; /* Change the color */\n",
       "  font-weight: bold; /* If you want it to be bold */\n",
       "  display: inline-block; /* Needed to add space between the bullet and the text */\n",
       "  width: 1em; /* Also needed for space (tweak if needed) */\n",
       "  margin-left: -2em; /* Also needed for space (tweak if needed) */\n",
       "}\n",
       "\n",
       "\n",
       "#notebook li { /* More space between bullet points */\n",
       "margin-top:0.5em;\n",
       "}\n",
       "\n",
       "div.output_subarea {\n",
       "    padding-top: 1em;\n",
       "    padding-bottom: 1em;\n",
       "}\n",
       "\n",
       "/* draw border around running cells */\n",
       "div.cell.border-box-sizing.code_cell.running {\n",
       "    border: 1px solid #111;\n",
       "}\n",
       "\n",
       "/* Put a solid color box around each cell and its output, visually linking them*/\n",
       "div.cell.code_cell {\n",
       "    background-color: rgb(256,256,256);\n",
       "    border-radius: 10px;\n",
       "    padding: 0em;\n",
       "    width: 850px;\n",
       "    margin-left: 1em;\n",
       "    margin-top: 0em;\n",
       "}\n",
       "\n",
       "\n",
       "div.text_cell_render{\n",
       "    /*font-family: 'Quicksand', sans-serif;*/\n",
       "    font-family: 'Source Sans Pro', sans-serif;\n",
       "    line-height: 120%;\n",
       "    font-size: 130%;\n",
       "    width:750px;\n",
       "    margin-left:0em;\n",
       "    margin-right:1em;\n",
       "    color: #19334d;\n",
       "    /*margin-right:auto;*/\n",
       "}\n",
       "\n",
       "/* Formatting for header cells */\n",
       ".text_cell_render h1 {\n",
       "    font-family: 'Quicksand', sans-serif;\n",
       "    /*font-family: 'Merriweather', serif;*/\n",
       "    font-style:regular;\n",
       "    font-weight: bold;\n",
       "    font-size: 160%;\n",
       "    line-height: 100%;\n",
       "    color: #9c2906;\n",
       "    margin-left: 0em;\n",
       "    margin-bottom: 1em;\n",
       "    margin-top: 2em;\n",
       "    display: block;\n",
       "}\n",
       ".text_cell_render h2 {\n",
       "    font-family: 'Quicksand', sans-serif;\n",
       "    /*font-family: 'Merriweather', serif;*/\n",
       "    font-weight: semi-bold;\n",
       "    font-size: 140%;\n",
       "    line-height: 100%;\n",
       "    color: #9c2906;\n",
       "    margin-bottom: 0.5em;\n",
       "    margin-top: 0.5em;\n",
       "    padding-top: 1.5em;\n",
       "    padding-bottom: -1em;\n",
       "    display: block;\n",
       "}\n",
       "\n",
       ".text_cell_render h3 {\n",
       "    font-family: 'Quicksand', sans-serif;\n",
       "    /*font-family: 'Merriweather', serif;*/\n",
       "    font-weight: regular;\n",
       "\t  font-size: 120%;\n",
       "    margin-top:12px;\n",
       "    margin-bottom: 0px;\n",
       "    padding-top: 0.5em;\n",
       "    color: #9c2906;\n",
       "}\n",
       "\n",
       "strong {\n",
       "  color: #9c2906;\n",
       "\n",
       "}\n",
       "\n",
       ".text_cell_render h4 {    /*Use this for captions*/\n",
       "    font-family: 'Quicksand', sans-serif;\n",
       "    /*font-family: 'Merriweather', serif;*/\n",
       "    font-weight: regular;\n",
       "    font-size: 100%;\n",
       "    line-height: 100%;\n",
       "    margin-top: 1em;\n",
       "    margin-bottom: 0px;\n",
       "    margin-left: 0pt;\n",
       "    padding-bottom: 0em;\n",
       "    color: #9c2906;\n",
       "}\n",
       "\n",
       ".text_cell_render h5 {  /*Use this for small titles*/\n",
       "    font-family: 'Quicksand', sans-serif;\n",
       "    /*font-family: 'Source Sans Pro', sans-serif;*/\n",
       "    font-weight: regular;\n",
       "    font-size: 130%;\n",
       "    color: #e31937;\n",
       "    font-style: italic;\n",
       "    margin-bottom: .5em;\n",
       "    margin-top: 1em;\n",
       "    display: block;\n",
       "}\n",
       "\n",
       ".text_cell_render h6 { /*use this for copyright note*/\n",
       "    font-family: 'Source Code Pro', sans-serif;\n",
       "    font-weight: 300;\n",
       "    font-size: 9pt;\n",
       "    line-height: 100%;\n",
       "    color: grey;\n",
       "    margin-bottom: 1px;\n",
       "    margin-top: 1px;\n",
       "}\n",
       "\n",
       "    .CodeMirror{\n",
       "          /*  font-family: \"Source Code Pro\";*/\n",
       "\t\t\tfont-size: 110%;\n",
       "    }\n",
       "/*    .prompt{\n",
       "        display: None;\n",
       "    }*/\n",
       "\n",
       "\n",
       "    .warning{\n",
       "        color: rgb( 240, 20, 20 )\n",
       "        }\n",
       "</style>\n",
       "<script>\n",
       "    MathJax.Hub.Config({\n",
       "                        TeX: {\n",
       "                           extensions: [\"AMSmath.js\"],\n",
       "                           equationNumbers: { autoNumber: \"AMS\", useLabelIds: true}\n",
       "                           },\n",
       "                tex2jax: {\n",
       "                    inlineMath: [ ['$','$'], [\"\\\\(\",\"\\\\)\"] ],\n",
       "                    displayMath: [ ['$$','$$'], [\"\\\\[\",\"\\\\]\"] ]\n",
       "                },\n",
       "                displayAlign: 'center', // Change this to 'center' to center equations.\n",
       "                \"HTML-CSS\": {\n",
       "                    styles: {'.MathJax_Display': {\"margin\": 4}}\n",
       "                }\n",
       "        });\n",
       "</script>\n"
      ],
      "text/plain": [
       "<IPython.core.display.HTML object>"
      ]
     },
     "execution_count": 220,
     "metadata": {},
     "output_type": "execute_result"
    }
   ],
   "source": [
    "# css styling of the notebook, ignore\n",
    "import requests\n",
    "from IPython.core.display import HTML\n",
    "HTML(requests.get(\"https://git.io/fj7u5\").text)"
   ]
  }
 ],
 "metadata": {
  "kernelspec": {
   "display_name": "Python 3",
   "language": "python",
   "name": "python3"
  },
  "language_info": {
   "codemirror_mode": {
    "name": "ipython",
    "version": 3
   },
   "file_extension": ".py",
   "mimetype": "text/x-python",
   "name": "python",
   "nbconvert_exporter": "python",
   "pygments_lexer": "ipython3",
   "version": "3.7.1"
  }
 },
 "nbformat": 4,
 "nbformat_minor": 2
}
