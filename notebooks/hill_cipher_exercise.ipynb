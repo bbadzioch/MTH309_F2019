{
 "cells": [
  {
   "cell_type": "markdown",
   "metadata": {},
   "source": [
    "### Execute the cell below before proceeding.\n",
    "\n",
    "The code in this cell will download a couple files with a Python scripts from the Internet. Make sure that you have a network connection before executing it.  "
   ]
  },
  {
   "cell_type": "code",
   "execution_count": null,
   "metadata": {},
   "outputs": [],
   "source": [
    "import requests\n",
    "with open(\"hill_cipher.py\", 'w') as foo:\n",
    "    foo.write(requests.get(\"https://git.io/fj5jZ\").text)\n",
    "with open(\"hill_cipher_samples.py\", 'w') as foo:\n",
    "    foo.write(requests.get(\"https://git.io/fj5jc\").text)\n",
    "from hill_cipher import *"
   ]
  },
  {
   "cell_type": "markdown",
   "metadata": {},
   "source": [
    "# Hill cipher exercise"
   ]
  },
  {
   "cell_type": "markdown",
   "metadata": {},
   "source": [
    "**Note:** The functions `char2num()` and `num2char()` should be helpful with these exercises. `char2num()` converts capital letters into numbers:"
   ]
  },
  {
   "cell_type": "code",
   "execution_count": null,
   "metadata": {},
   "outputs": [],
   "source": [
    "char2num(\"ABCDEF\")"
   ]
  },
  {
   "cell_type": "markdown",
   "metadata": {},
   "source": [
    "Conversely, `num2char()` converts a list of numbers into corresponding characters. It also displays a black block for each number on the list that does not correspond to any character:"
   ]
  },
  {
   "cell_type": "code",
   "execution_count": null,
   "metadata": {},
   "outputs": [],
   "source": [
    "mylist = [20,8,9,19,0,9,19,0,1,0,20,5,19,20, 100, -1]\n",
    "num2char(mylist)"
   ]
  },
  {
   "cell_type": "markdown",
   "metadata": {},
   "source": [
    "----"
   ]
  },
  {
   "cell_type": "markdown",
   "metadata": {},
   "source": [
    "### Exercise\n"
   ]
  },
  {
   "cell_type": "markdown",
   "metadata": {},
   "source": [
    "In the next cell enter your UB person number (digits only, no spaces, dashes etc.) assigning it to the variable `pnum`, and execute the cell. For example, if your UB person number is 50201234, then the next cell should be `pnum = 50201234`"
   ]
  },
  {
   "cell_type": "code",
   "execution_count": null,
   "metadata": {},
   "outputs": [],
   "source": [
    "pnum = "
   ]
  },
  {
   "cell_type": "markdown",
   "metadata": {},
   "source": [
    "Execute the next cell to produce a message encrypted with the Hill cipher:"
   ]
  },
  {
   "cell_type": "code",
   "execution_count": null,
   "metadata": {},
   "outputs": [],
   "source": [
    "cipher = cipher_generator(pnum)\n",
    "cipher"
   ]
  },
  {
   "cell_type": "markdown",
   "metadata": {},
   "source": [
    "The cipher key which was used to encrypt this message is the  following matrix:\n",
    "\n",
    "$$K = \n",
    "\\begin{bmatrix}\n",
    "1 & 2 & 2 \\\\\n",
    "1 & 1 & 0 \\\\\n",
    "0 & 1 & 1 \\\\\n",
    "\\end{bmatrix}\n",
    "$$\n",
    "\n",
    "Decrypt the message and enter it in UBx. "
   ]
  },
  {
   "cell_type": "code",
   "execution_count": null,
   "metadata": {},
   "outputs": [],
   "source": []
  }
 ],
 "metadata": {
  "kernelspec": {
   "display_name": "Python 3",
   "language": "python",
   "name": "python3"
  },
  "language_info": {
   "codemirror_mode": {
    "name": "ipython",
    "version": 3
   },
   "file_extension": ".py",
   "mimetype": "text/x-python",
   "name": "python",
   "nbconvert_exporter": "python",
   "pygments_lexer": "ipython3",
   "version": "3.7.1"
  }
 },
 "nbformat": 4,
 "nbformat_minor": 2
}
