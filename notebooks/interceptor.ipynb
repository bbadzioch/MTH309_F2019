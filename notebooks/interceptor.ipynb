{
 "cells": [
  {
   "cell_type": "markdown",
   "metadata": {},
   "source": [
    "### Execute the cell below before proceeding.\n",
    "\n",
    "The code in this cell with download a file with a Python script from the Internet. Make sure that you have a network connection before executing it.  "
   ]
  },
  {
   "cell_type": "code",
   "execution_count": 2,
   "metadata": {},
   "outputs": [],
   "source": [
    "import requests\n",
    "with open(\"interceptor.py\", 'w') as foo:\n",
    "    foo.write(requests.get(\"https://git.io/fj5rM\").text)\n",
    "from interceptor import *"
   ]
  },
  {
   "cell_type": "markdown",
   "metadata": {},
   "source": [
    "# Interceptor"
   ]
  },
  {
   "cell_type": "markdown",
   "metadata": {},
   "source": [
    "Interceptor is a simple game. You are given the position and the velocity vector of a target. Your objective is to shoot it down. You are equipped with a single missile located at the position $[0, 0]$. The missile fires straight up, with the velocity vector $[0, 4]$. You need to select the time when the missile must be launched in order to intercept the target. The launch time is always an integer. If you select the correct time, the target will get destroyed.\n",
    "\n",
    "**Objective:** Destroy the target. Once you do it, a screen saying \"TARGET INTERCEPTED\" and showing game data will be displayed. Enter the data displayed there to UBx as your solution. "
   ]
  },
  {
   "cell_type": "markdown",
   "metadata": {},
   "source": [
    "Execute the next cell to start the game:"
   ]
  },
  {
   "cell_type": "code",
   "execution_count": null,
   "metadata": {},
   "outputs": [],
   "source": [
    "%matplotlib notebook\n",
    "x=interceptor()"
   ]
  }
 ],
 "metadata": {
  "kernelspec": {
   "display_name": "Python 3",
   "language": "python",
   "name": "python3"
  },
  "language_info": {
   "codemirror_mode": {
    "name": "ipython",
    "version": 3
   },
   "file_extension": ".py",
   "mimetype": "text/x-python",
   "name": "python",
   "nbconvert_exporter": "python",
   "pygments_lexer": "ipython3",
   "version": "3.7.1"
  }
 },
 "nbformat": 4,
 "nbformat_minor": 2
}
