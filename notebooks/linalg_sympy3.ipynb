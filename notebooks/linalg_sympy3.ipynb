{
 "cells": [
  {
   "cell_type": "code",
   "execution_count": 1,
   "metadata": {},
   "outputs": [
    {
     "data": {
      "text/html": [
       "<link href=\"https://fonts.googleapis.com/css?family=Merriweather:300,300i,400,400i,700,700i,900,900i\" rel='stylesheet' >\n",
       "<link href=\"https://fonts.googleapis.com/css?family=Source+Sans+Pro:300,300i,400,400i,700,700i\" rel='stylesheet' >\n",
       "<link href='http://fonts.googleapis.com/css?family=Source+Code+Pro:300,400' rel='stylesheet' >\n",
       "<style>\n",
       "@import url('https://fonts.googleapis.com/css?family=Quicksand:500');\n",
       "@font-face {\n",
       "    font-family: \"Computer Modern\";\n",
       "    src: url('http://mirrors.ctan.org/fonts/cm-unicode/fonts/otf/cmunss.otf');\n",
       "}\n",
       "\n",
       "\n",
       ".prompt {width: 0px;\n",
       "         min-width: 0px;\n",
       "         visibility: collapse\n",
       "}\n",
       "\n",
       "#notebook_panel { /* main background */\n",
       "    background: rgb(245,245,245);\n",
       "}\n",
       "\n",
       "div.cell { /* set cell width */\n",
       "    width: 850px;\n",
       "}\n",
       "\n",
       "div #notebook { /* centre the content */\n",
       "    background: #fff; /* white background for content */\n",
       "    width: 1000px;\n",
       "    margin: auto;\n",
       "    padding-left: 0em;\n",
       "}\n",
       "\n",
       "#notebook ul {\n",
       "  list-style: none; /* Remove default bullets */\n",
       "}\n",
       "\n",
       "#notebook ul li::before {\n",
       "  content: \"\\2022\";  /* Add content: \\2022 is the CSS Code/unicode for a bullet */\n",
       "  color: #9c2906; /* Change the color */\n",
       "  font-weight: bold; /* If you want it to be bold */\n",
       "  display: inline-block; /* Needed to add space between the bullet and the text */\n",
       "  width: 1em; /* Also needed for space (tweak if needed) */\n",
       "  margin-left: -2em; /* Also needed for space (tweak if needed) */\n",
       "}\n",
       "\n",
       "\n",
       "#notebook li { /* More space between bullet points */\n",
       "margin-top:0.5em;\n",
       "}\n",
       "\n",
       "div.output_subarea {\n",
       "    padding-top: 1em;\n",
       "    padding-bottom: 1em;\n",
       "}\n",
       "\n",
       "/* draw border around running cells */\n",
       "div.cell.border-box-sizing.code_cell.running {\n",
       "    border: 1px solid #111;\n",
       "}\n",
       "\n",
       "/* Put a solid color box around each cell and its output, visually linking them*/\n",
       "div.cell.code_cell {\n",
       "    background-color: rgb(256,256,256);\n",
       "    border-radius: 10px;\n",
       "    padding: 0em;\n",
       "    width: 850px;\n",
       "    margin-left: 1em;\n",
       "    margin-top: 0em;\n",
       "}\n",
       "\n",
       "\n",
       "div.text_cell_render{\n",
       "    /*font-family: 'Quicksand', sans-serif;*/\n",
       "    font-family: 'Source Sans Pro', sans-serif;\n",
       "    line-height: 120%;\n",
       "    font-size: 130%;\n",
       "    width:750px;\n",
       "    margin-left:0em;\n",
       "    margin-right:1em;\n",
       "    color: #19334d;\n",
       "    /*margin-right:auto;*/\n",
       "}\n",
       "\n",
       "/* Formatting for header cells */\n",
       ".text_cell_render h1 {\n",
       "    font-family: 'Quicksand', sans-serif;\n",
       "    /*font-family: 'Merriweather', serif;*/\n",
       "    font-style:regular;\n",
       "    font-weight: bold;\n",
       "    font-size: 160%;\n",
       "    line-height: 100%;\n",
       "    color: #9c2906;\n",
       "    margin-left: 0em;\n",
       "    margin-bottom: 1em;\n",
       "    margin-top: 2em;\n",
       "    display: block;\n",
       "}\n",
       ".text_cell_render h2 {\n",
       "    font-family: 'Quicksand', sans-serif;\n",
       "    /*font-family: 'Merriweather', serif;*/\n",
       "    font-weight: semi-bold;\n",
       "    font-size: 140%;\n",
       "    line-height: 100%;\n",
       "    color: #9c2906;\n",
       "    margin-bottom: 0.5em;\n",
       "    margin-top: 0.5em;\n",
       "    padding-top: 1.5em;\n",
       "    padding-bottom: -1em;\n",
       "    display: block;\n",
       "}\n",
       "\n",
       ".text_cell_render h3 {\n",
       "    font-family: 'Quicksand', sans-serif;\n",
       "    /*font-family: 'Merriweather', serif;*/\n",
       "    font-weight: regular;\n",
       "\t  font-size: 120%;\n",
       "    margin-top:12px;\n",
       "    margin-bottom: 0px;\n",
       "    padding-top: 0.5em;\n",
       "    color: #9c2906;\n",
       "}\n",
       "\n",
       "strong {\n",
       "  color: #9c2906;\n",
       "\n",
       "}\n",
       "\n",
       ".text_cell_render h4 {    /*Use this for captions*/\n",
       "    font-family: 'Quicksand', sans-serif;\n",
       "    /*font-family: 'Merriweather', serif;*/\n",
       "    font-weight: regular;\n",
       "    font-size: 100%;\n",
       "    line-height: 100%;\n",
       "    margin-top: 1em;\n",
       "    margin-bottom: 0px;\n",
       "    margin-left: 0pt;\n",
       "    padding-bottom: 0em;\n",
       "    color: #9c2906;\n",
       "}\n",
       "\n",
       ".text_cell_render h5 {  /*Use this for small titles*/\n",
       "    font-family: 'Quicksand', sans-serif;\n",
       "    /*font-family: 'Source Sans Pro', sans-serif;*/\n",
       "    font-weight: regular;\n",
       "    font-size: 130%;\n",
       "    color: #e31937;\n",
       "    font-style: italic;\n",
       "    margin-bottom: .5em;\n",
       "    margin-top: 1em;\n",
       "    display: block;\n",
       "}\n",
       "\n",
       ".text_cell_render h6 { /*use this for copyright note*/\n",
       "    font-family: 'Source Code Pro', sans-serif;\n",
       "    font-weight: 300;\n",
       "    font-size: 9pt;\n",
       "    line-height: 100%;\n",
       "    color: grey;\n",
       "    margin-bottom: 1px;\n",
       "    margin-top: 1px;\n",
       "}\n",
       "\n",
       "    .CodeMirror{\n",
       "          /*  font-family: \"Source Code Pro\";*/\n",
       "\t\t\tfont-size: 110%;\n",
       "    }\n",
       "/*    .prompt{\n",
       "        display: None;\n",
       "    }*/\n",
       "\n",
       "\n",
       "    .warning{\n",
       "        color: rgb( 240, 20, 20 )\n",
       "        }\n",
       "</style>\n",
       "<script>\n",
       "    MathJax.Hub.Config({\n",
       "                        TeX: {\n",
       "                           extensions: [\"AMSmath.js\"],\n",
       "                           equationNumbers: { autoNumber: \"AMS\", useLabelIds: true}\n",
       "                           },\n",
       "                tex2jax: {\n",
       "                    inlineMath: [ ['$','$'], [\"\\\\(\",\"\\\\)\"] ],\n",
       "                    displayMath: [ ['$$','$$'], [\"\\\\[\",\"\\\\]\"] ]\n",
       "                },\n",
       "                displayAlign: 'center', // Change this to 'center' to center equations.\n",
       "                \"HTML-CSS\": {\n",
       "                    styles: {'.MathJax_Display': {\"margin\": 4}}\n",
       "                }\n",
       "        });\n",
       "</script>\n"
      ],
      "text/plain": [
       "<IPython.core.display.HTML object>"
      ]
     },
     "execution_count": 1,
     "metadata": {},
     "output_type": "execute_result"
    }
   ],
   "source": [
    "# css styling of the notebook - execute and then ignore\n",
    "import requests, IPython.core.display\n",
    "IPython.core.display.HTML(requests.get(\"https://git.io/fj7u5\").text)"
   ]
  },
  {
   "cell_type": "markdown",
   "metadata": {},
   "source": [
    "# Linear algebra with Python and SymPy (part 3)"
   ]
  },
  {
   "cell_type": "code",
   "execution_count": 63,
   "metadata": {},
   "outputs": [],
   "source": [
    "#load SymPy module content\n",
    "from sympy import *\n",
    "\n",
    "#this makes printouts of matrices and vectors more readeable:\n",
    "init_printing(use_latex='mathjax')"
   ]
  },
  {
   "cell_type": "markdown",
   "metadata": {},
   "source": [
    "## Row space, column space, and null space"
   ]
  },
  {
   "cell_type": "code",
   "execution_count": 64,
   "metadata": {},
   "outputs": [
    {
     "data": {
      "text/latex": [
       "$$\\left[\\begin{matrix}1 & 2 & 3 & 4\\\\5 & 6 & 7 & 8\\\\4 & 4 & 4 & 4\\end{matrix}\\right]$$"
      ],
      "text/plain": [
       "⎡1  2  3  4⎤\n",
       "⎢          ⎥\n",
       "⎢5  6  7  8⎥\n",
       "⎢          ⎥\n",
       "⎣4  4  4  4⎦"
      ]
     },
     "execution_count": 64,
     "metadata": {},
     "output_type": "execute_result"
    }
   ],
   "source": [
    "A = Matrix([[1, 2, 3, 4],[5, 6, 7, 8], [4, 4, 4, 4]])\n",
    "A"
   ]
  },
  {
   "cell_type": "markdown",
   "metadata": {},
   "source": [
    "A basis of the row space:"
   ]
  },
  {
   "cell_type": "code",
   "execution_count": 65,
   "metadata": {},
   "outputs": [
    {
     "data": {
      "text/latex": [
       "$$\\left [ \\left[\\begin{matrix}1 & 2 & 3 & 4\\end{matrix}\\right], \\quad \\left[\\begin{matrix}0 & -4 & -8 & -12\\end{matrix}\\right]\\right ]$$"
      ],
      "text/plain": [
       "[[1  2  3  4], [0  -4  -8  -12]]"
      ]
     },
     "execution_count": 65,
     "metadata": {},
     "output_type": "execute_result"
    }
   ],
   "source": [
    "A.rowspace()"
   ]
  },
  {
   "cell_type": "markdown",
   "metadata": {},
   "source": [
    "A basis of the column space:"
   ]
  },
  {
   "cell_type": "code",
   "execution_count": 66,
   "metadata": {},
   "outputs": [
    {
     "data": {
      "text/latex": [
       "$$\\left [ \\left[\\begin{matrix}1\\\\5\\\\4\\end{matrix}\\right], \\quad \\left[\\begin{matrix}2\\\\6\\\\4\\end{matrix}\\right]\\right ]$$"
      ],
      "text/plain": [
       "⎡⎡1⎤  ⎡2⎤⎤\n",
       "⎢⎢ ⎥  ⎢ ⎥⎥\n",
       "⎢⎢5⎥, ⎢6⎥⎥\n",
       "⎢⎢ ⎥  ⎢ ⎥⎥\n",
       "⎣⎣4⎦  ⎣4⎦⎦"
      ]
     },
     "execution_count": 66,
     "metadata": {},
     "output_type": "execute_result"
    }
   ],
   "source": [
    "A.columnspace()"
   ]
  },
  {
   "cell_type": "markdown",
   "metadata": {},
   "source": [
    "A basis of the null space:"
   ]
  },
  {
   "cell_type": "code",
   "execution_count": 67,
   "metadata": {},
   "outputs": [
    {
     "data": {
      "text/latex": [
       "$$\\left [ \\left[\\begin{matrix}1\\\\-2\\\\1\\\\0\\end{matrix}\\right], \\quad \\left[\\begin{matrix}2\\\\-3\\\\0\\\\1\\end{matrix}\\right]\\right ]$$"
      ],
      "text/plain": [
       "⎡⎡1 ⎤  ⎡2 ⎤⎤\n",
       "⎢⎢  ⎥  ⎢  ⎥⎥\n",
       "⎢⎢-2⎥  ⎢-3⎥⎥\n",
       "⎢⎢  ⎥, ⎢  ⎥⎥\n",
       "⎢⎢1 ⎥  ⎢0 ⎥⎥\n",
       "⎢⎢  ⎥  ⎢  ⎥⎥\n",
       "⎣⎣0 ⎦  ⎣1 ⎦⎦"
      ]
     },
     "execution_count": 67,
     "metadata": {},
     "output_type": "execute_result"
    }
   ],
   "source": [
    "A.nullspace()"
   ]
  }
 ],
 "metadata": {
  "kernelspec": {
   "display_name": "Python 3",
   "language": "python",
   "name": "python3"
  },
  "language_info": {
   "codemirror_mode": {
    "name": "ipython",
    "version": 3
   },
   "file_extension": ".py",
   "mimetype": "text/x-python",
   "name": "python",
   "nbconvert_exporter": "python",
   "pygments_lexer": "ipython3",
   "version": "3.7.1"
  }
 },
 "nbformat": 4,
 "nbformat_minor": 2
}
