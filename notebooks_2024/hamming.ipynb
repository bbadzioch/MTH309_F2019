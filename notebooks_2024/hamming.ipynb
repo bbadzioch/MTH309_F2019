{
 "cells": [
  {
   "cell_type": "markdown",
   "metadata": {},
   "source": [
    "### Execute the cell below before proceeding.\n",
    "\n",
    "The code in this cell will download a file with a Python script from the Internet. Make sure that you have a network connection before executing it.  "
   ]
  },
  {
   "cell_type": "code",
   "execution_count": 1,
   "metadata": {},
   "outputs": [],
   "source": [
    "import requests\n",
    "with open(\"hamming.py\", 'w') as foo:\n",
    "    foo.write(requests.get(\"https://raw.githubusercontent.com/bbadzioch/MTH309_F2019/master/notebooks_2024/hamming.py\").text)\n",
    "from hamming import *"
   ]
  },
  {
   "cell_type": "markdown",
   "metadata": {},
   "source": [
    "# Error correction with Hamming codes"
   ]
  },
  {
   "cell_type": "markdown",
   "metadata": {},
   "source": [
    "This notebook illustrates the process of correcting errors in data using the [Hamming (7,4) error correcting code](https://en.wikipedia.org/wiki/Hamming(7,4)).  As an example, take an array consisting of 4 bits (zeros and ones): "
   ]
  },
  {
   "cell_type": "code",
   "execution_count": 2,
   "metadata": {},
   "outputs": [],
   "source": [
    "data = [0,0,1,1]"
   ]
  },
  {
   "cell_type": "markdown",
   "metadata": {},
   "source": [
    "The `hamming_encode()` function uses the Hamming (7,4) code to add three additional bits to this array in order to enable error correction: "
   ]
  },
  {
   "cell_type": "code",
   "execution_count": 3,
   "metadata": {},
   "outputs": [
    {
     "name": "stdout",
     "output_type": "stream",
     "text": [
      "[0, 0, 1, 1, 0, 0, 1]\n"
     ]
    }
   ],
   "source": [
    "#encode data\n",
    "encoded_data = hamming_encode(data)\n",
    "#print the result\n",
    "print(encoded_data)"
   ]
  },
  {
   "cell_type": "markdown",
   "metadata": {},
   "source": [
    "Next, we introduce an error in the encoded data by changing its first bit:"
   ]
  },
  {
   "cell_type": "code",
   "execution_count": 4,
   "metadata": {},
   "outputs": [
    {
     "name": "stdout",
     "output_type": "stream",
     "text": [
      "[1, 0, 1, 1, 0, 0, 1]\n"
     ]
    }
   ],
   "source": [
    "#the next statement assigns the value of 1 to the first array element\n",
    "#in Python array indexing starts with 0 which is why we use encoded_data[0]\n",
    "encoded_data[0] = 1\n",
    "print(encoded_data)"
   ]
  },
  {
   "cell_type": "markdown",
   "metadata": {},
   "source": [
    "The `hamming_decode()` function can be then applied to recover the original array, removing the error:"
   ]
  },
  {
   "cell_type": "code",
   "execution_count": 5,
   "metadata": {},
   "outputs": [
    {
     "data": {
      "text/plain": [
       "[0, 0, 1, 1]"
      ]
     },
     "execution_count": 5,
     "metadata": {},
     "output_type": "execute_result"
    }
   ],
   "source": [
    "hamming_decode(encoded_data)"
   ]
  },
  {
   "cell_type": "markdown",
   "metadata": {},
   "source": [
    "## Application: correcting errors in text"
   ]
  },
  {
   "cell_type": "markdown",
   "metadata": {},
   "source": [
    "The next example shows how the Hamming code can work in practice. We will use it to correct errors that can occur in transmission of text strings. Like all data stored and processed by computers, text string are represented in the computer memory as arrays of zeros and ones. The `text2bits()` function shows such binary representation of a text string:    "
   ]
  },
  {
   "cell_type": "code",
   "execution_count": 6,
   "metadata": {},
   "outputs": [
    {
     "name": "stdout",
     "output_type": "stream",
     "text": [
      "[0, 1, 1, 0, 1, 0, 0, 0, 0, 1, 1, 0, 1, 0, 0, 1]\n"
     ]
    }
   ],
   "source": [
    "s = \"hi\"\n",
    "bits = text2bits(s)\n",
    "print(bits)"
   ]
  },
  {
   "cell_type": "markdown",
   "metadata": {},
   "source": [
    "In the above array each subsequence of 8 consecutive bits encodes one character of the text. Since the string \"hi\" consists of 2 characters, the array is 16 bits long."
   ]
  },
  {
   "cell_type": "markdown",
   "metadata": {},
   "source": [
    "The `bits2text()` function converts an array of bits into a text string:"
   ]
  },
  {
   "cell_type": "code",
   "execution_count": 7,
   "metadata": {},
   "outputs": [
    {
     "data": {
      "text/plain": [
       "'hi'"
      ]
     },
     "execution_count": 7,
     "metadata": {},
     "output_type": "execute_result"
    }
   ],
   "source": [
    "bits2text(bits)"
   ]
  },
  {
   "cell_type": "markdown",
   "metadata": {},
   "source": [
    "By modifying an element of the array of bits we introduce an error in the text encoding:"
   ]
  },
  {
   "cell_type": "code",
   "execution_count": 8,
   "metadata": {},
   "outputs": [
    {
     "name": "stdout",
     "output_type": "stream",
     "text": [
      "[1, 1, 1, 0, 1, 0, 0, 0, 0, 1, 1, 0, 1, 0, 0, 1]\n"
     ]
    }
   ],
   "source": [
    "bits[0] = 1\n",
    "print(bits)"
   ]
  },
  {
   "cell_type": "markdown",
   "metadata": {},
   "source": [
    "As a result the text recovered from the array will be distorted:"
   ]
  },
  {
   "cell_type": "code",
   "execution_count": 9,
   "metadata": {},
   "outputs": [
    {
     "data": {
      "text/plain": [
       "'èi'"
      ]
     },
     "execution_count": 9,
     "metadata": {},
     "output_type": "execute_result"
    }
   ],
   "source": [
    "bits2text(bits)"
   ]
  },
  {
   "cell_type": "markdown",
   "metadata": {},
   "source": [
    "If we use the Hamming code we can recover from such errors. Here is an example. First, we convert text into bits:"
   ]
  },
  {
   "cell_type": "code",
   "execution_count": 10,
   "metadata": {},
   "outputs": [
    {
     "name": "stdout",
     "output_type": "stream",
     "text": [
      "[0, 1, 1, 0, 1, 0, 0, 0, 0, 1, 1, 0, 1, 0, 0, 1]\n"
     ]
    }
   ],
   "source": [
    "s = 'hi'\n",
    "bits = text2bits(s)\n",
    "print(bits)"
   ]
  },
  {
   "cell_type": "markdown",
   "metadata": {},
   "source": [
    "Next, we apply Hamming encoding:"
   ]
  },
  {
   "cell_type": "code",
   "execution_count": 11,
   "metadata": {},
   "outputs": [
    {
     "name": "stdout",
     "output_type": "stream",
     "text": [
      "[0, 1, 1, 0, 0, 1, 1, 1, 0, 0, 0, 0, 1, 1, 0, 1, 1, 0, 0, 1, 1, 1, 0, 0, 1, 1, 0, 0]\n"
     ]
    }
   ],
   "source": [
    "encoded = hamming_encode(bits)\n",
    "print(encoded)"
   ]
  },
  {
   "cell_type": "markdown",
   "metadata": {},
   "source": [
    "Then, we introduce a couple of errors in the encoded array, by changing the first and the last bit:"
   ]
  },
  {
   "cell_type": "code",
   "execution_count": 12,
   "metadata": {},
   "outputs": [
    {
     "name": "stdout",
     "output_type": "stream",
     "text": [
      "[1, 1, 1, 0, 0, 1, 1, 1, 0, 0, 0, 0, 1, 1, 0, 1, 1, 0, 0, 1, 1, 1, 0, 0, 1, 1, 0, 1]\n"
     ]
    }
   ],
   "source": [
    "encoded[0] = 1\n",
    "encoded[-1] = 1\n",
    "print(encoded)"
   ]
  },
  {
   "cell_type": "markdown",
   "metadata": {},
   "source": [
    "Finally we apply Hamming decoding to the array with errors, and translate the resulting bits into text:"
   ]
  },
  {
   "cell_type": "code",
   "execution_count": 13,
   "metadata": {},
   "outputs": [
    {
     "name": "stdout",
     "output_type": "stream",
     "text": [
      "[0, 1, 1, 0, 1, 0, 0, 0, 0, 1, 1, 0, 1, 0, 0, 1]\n"
     ]
    },
    {
     "data": {
      "text/plain": [
       "'hi'"
      ]
     },
     "execution_count": 13,
     "metadata": {},
     "output_type": "execute_result"
    }
   ],
   "source": [
    "decoded = hamming_decode(encoded)\n",
    "print(decoded)\n",
    "bits2text(decoded)"
   ]
  },
  {
   "cell_type": "markdown",
   "metadata": {},
   "source": [
    "The original text is recovered!"
   ]
  },
  {
   "cell_type": "markdown",
   "metadata": {},
   "source": [
    "## Testing error correction with larger texts"
   ]
  },
  {
   "cell_type": "markdown",
   "metadata": {},
   "source": [
    "The function `text_compare()` lets us experiment with larger text strings. This function takes a text string, replaces it by an array of bits, and randomly introduces some errors into this array. The second argument of the function, `p` is the probability that a bit of the array will contain an error. For example, if `p=0.01`  the probability that a bit is correct will be 99%, and the probability that it contains an error will be 1%. The higher value of `p` the bigger chances for each bit to contain an error and, in effect, the more errors we will get in the bit array. \n",
    "\n",
    "`text_compare()` shows the text recovered from the bit array with errors. In one column text is obtained straight from the array, without error correction, in the second column error correction is applied. Red background indicates characters in the text that are not correct:"
   ]
  },
  {
   "cell_type": "code",
   "execution_count": 14,
   "metadata": {},
   "outputs": [],
   "source": [
    "sample_text = \"This is a test of the Hamming (7,4) code\""
   ]
  },
  {
   "cell_type": "code",
   "execution_count": 15,
   "metadata": {},
   "outputs": [
    {
     "data": {
      "text/html": [
       "<style type=\"text/css\"> \n",
       "            #wrap {width:900px; margin:  30px 0 0 0;} \n",
       "            #left_col {float:left;width:440px;}\n",
       "            #right_col {float:right;width:440px;}\n",
       "            #pout {padding: 20px 20px 20px 20px; background-color:black; color:gray; font-family:monospace; font-size:11pt; line-height: 120%;}\n",
       "            </style>\n",
       "            <div id=\"wrap\"><div id=\"left_col\"><b>without error correction (p=0.01)</b><p id=\"pout\"><span style=\"background-color:FireBrick;\">U</span>his is a test<span style=\"background-color:FireBrick;\">\"</span>of the Hamm<span style=\"background-color:FireBrick;\">h</span>ng (7,<span style=\"background-color:FireBrick;\">5</span>) cod<span style=\"background-color:FireBrick;\">u</span></p></div><div id=\"right_col\"><b>with error correction (p=0.01)</b><p id=\"pout\">This is a test of the Hamming (7,4) code</p></div></div>"
      ],
      "text/plain": [
       "<IPython.core.display.HTML object>"
      ]
     },
     "metadata": {},
     "output_type": "display_data"
    }
   ],
   "source": [
    "text_compare(sample_text, p=0.01)"
   ]
  },
  {
   "cell_type": "markdown",
   "metadata": {},
   "source": [
    "Increasing the value of `p` produces more errors. Since the Hamming (7,4) code can correct one error per 7 bits of data, if two errors appear close to each other then code may not be able to handle it:"
   ]
  },
  {
   "cell_type": "code",
   "execution_count": 16,
   "metadata": {},
   "outputs": [
    {
     "data": {
      "text/html": [
       "<style type=\"text/css\"> \n",
       "            #wrap {width:900px; margin:  30px 0 0 0;} \n",
       "            #left_col {float:left;width:440px;}\n",
       "            #right_col {float:right;width:440px;}\n",
       "            #pout {padding: 20px 20px 20px 20px; background-color:black; color:gray; font-family:monospace; font-size:11pt; line-height: 120%;}\n",
       "            </style>\n",
       "            <div id=\"wrap\"><div id=\"left_col\"><b>without error correction (p=0.05)</b><p id=\"pout\"><span style=\"background-color:FireBrick;\">U</span>his<span style=\"background-color:FireBrick;\">!</span>is a<span style=\"background-color:FireBrick;\">!</span>test<span style=\"background-color:FireBrick;\">\"</span><span style=\"background-color:FireBrick;\">g</span>f th<span style=\"background-color:FireBrick;\">u</span> Ha<span style=\"background-color:FireBrick;\">}</span><span style=\"background-color:FireBrick;\">í</span><span style=\"background-color:FireBrick;\">y</span>n<span style=\"background-color:FireBrick;\">o</span><span style=\"background-color:FireBrick;\">(</span>(7,4) c<span style=\"background-color:FireBrick;\">g</span>de</p></div><div id=\"right_col\"><b>with error correction (p=0.05)</b><p id=\"pout\">This<span style=\"background-color:FireBrick;\">)</span>is a<span style=\"background-color:FireBrick;\">!</span>test<span style=\"background-color:FireBrick;\">\"</span>of th<span style=\"background-color:FireBrick;\">õ</span> Hamming (7,4) code</p></div></div>"
      ],
      "text/plain": [
       "<IPython.core.display.HTML object>"
      ]
     },
     "metadata": {},
     "output_type": "display_data"
    }
   ],
   "source": [
    "text_compare(sample_text, p=0.05)"
   ]
  },
  {
   "cell_type": "markdown",
   "metadata": {},
   "source": [
    "As a larger text sample we will use a fragment of \"The Adventures of Tom Sawyer\" downloaded from the [Project Gutenberg](http://www.gutenberg.org) website."
   ]
  },
  {
   "cell_type": "code",
   "execution_count": 17,
   "metadata": {},
   "outputs": [],
   "source": [
    "#download the file\n",
    "r = requests.get('http://www.gutenberg.org/files/74/74-0.txt')\n",
    "r.encoding = 'utf8'\n",
    "sawyer = r.text\n",
    "\n",
    "#select a text sample from a given range of characters in the text file\n",
    "sample = sawyer[30000:31400]"
   ]
  },
  {
   "cell_type": "markdown",
   "metadata": {},
   "source": [
    "Here is the text sample we produced:"
   ]
  },
  {
   "cell_type": "code",
   "execution_count": 18,
   "metadata": {},
   "outputs": [
    {
     "name": "stdout",
     "output_type": "stream",
     "text": [
      " the middle of the afternoon came, from being a\n",
      "poor poverty-stricken boy in the morning, Tom was literally rolling in\n",
      "wealth. He had besides the things before mentioned, twelve marbles, part\n",
      "of a jews-harp, a piece of blue bottle-glass to look through, a spool\n",
      "cannon, a key that wouldn’t unlock anything, a fragment of chalk, a\n",
      "glass stopper of a decanter, a tin soldier, a couple of tadpoles,\n",
      "six fire-crackers, a kitten with only one eye, a brass door-knob, a\n",
      "dog-collar—but no dog—the handle of a knife, four pieces of orange-peel,\n",
      "and a dilapidated old window sash.\n",
      "\n",
      "He had had a nice, good, idle time all the while—plenty of company—and\n",
      "the fence had three coats of whitewash on it! If he hadn’t run out of\n",
      "whitewash he would have bankrupted every boy in the village.\n",
      "\n",
      "Tom said to himself that it was not such a hollow world, after all. He\n",
      "had discovered a great law of human action, without knowing it—namely,\n",
      "that in order to make a man or a boy covet a thing, it is only necessary\n",
      "to make the thing difficult to attain. If he had been a great and\n",
      "wise philosopher, like the writer of this book, he would now have\n",
      "comprehended that Work consists of whatever a body is _obliged_ to do,\n",
      "and that Play consists of whatever a body is not obliged to do. And\n",
      "this would help him to understand why constructing artificial flowers or\n",
      "performing on a tread-mill is work, while r\n"
     ]
    }
   ],
   "source": [
    "print(sample)"
   ]
  },
  {
   "cell_type": "markdown",
   "metadata": {},
   "source": [
    "Here is the `text_compare()` function applied to this text sample:"
   ]
  },
  {
   "cell_type": "code",
   "execution_count": 19,
   "metadata": {},
   "outputs": [
    {
     "data": {
      "text/html": [
       "<style type=\"text/css\"> \n",
       "            #wrap {width:900px; margin:  30px 0 0 0;} \n",
       "            #left_col {float:left;width:440px;}\n",
       "            #right_col {float:right;width:440px;}\n",
       "            #pout {padding: 20px 20px 20px 20px; background-color:black; color:gray; font-family:monospace; font-size:11pt; line-height: 120%;}\n",
       "            </style>\n",
       "            <div id=\"wrap\"><div id=\"left_col\"><b>without error correction (p=0.005)</b><p id=\"pout\"> the middle of the aft<span style=\"background-color:FireBrick;\">a</span>r<span style=\"background-color:FireBrick;\">o</span>oon came, from being a\r\n",
       "poor po<span style=\"background-color:FireBrick;\">r</span>erty-stricken boy in the<span style=\"background-color:FireBrick;\">$</span>morning, T<span style=\"background-color:FireBrick;\">g</span>m was literally rolling in\r\n",
       "wealth. He h<span style=\"background-color:FireBrick;\">i</span>d besides the things before mentioned, twelve marb<span style=\"background-color:FireBrick;\">n</span>es, part\r\n",
       "of a jews-har<span style=\"background-color:FireBrick;\">`</span>, a piece of blue bottle-glass to look thr<span style=\"background-color:FireBrick;\"></span>ugh<span style=\"background-color:FireBrick;\">\f",
       "</span> a spool\r\n",
       "cannon, a key that w<span style=\"background-color:FireBrick;\">m</span>uldn<span style=\"background-color:FireBrick;\">\u0019</span>t unlock anything, a f<span style=\"background-color:FireBrick;\">R</span>agment of cha<span style=\"background-color:FireBrick;\">h</span>k, a\r\n",
       "glass stopper <span style=\"background-color:FireBrick;\">m</span>f <span style=\"background-color:FireBrick;\">q</span> decanter,<span style=\"background-color:FireBrick;\">`</span>a tin soldier, a coupl<span style=\"background-color:FireBrick;\">%</span> of tadpoles,\r\n",
       "six fire-crackers, a<span style=\"background-color:FireBrick;\">!</span>kitten with only one eye, a brass<span style=\"background-color:FireBrick;\"> </span>do<span style=\"background-color:FireBrick;\">n</span>r-knob, a\r\n",
       "dog-collar<span style=\"background-color:FireBrick;\">\u0010</span>but no dog<span style=\"background-color:FireBrick;\">\u0014</span>the handle<span style=\"background-color:FireBrick;\">`</span>of a knife, fou<span style=\"background-color:FireBrick;\">z</span> pieces of orange-peel,\r\n",
       "and a dilapidated old window sash.\r\n",
       "\r\n",
       "He had had a<span style=\"background-color:FireBrick;\">`</span>ni<span style=\"background-color:FireBrick;\">C</span>e, good, idle time all the while<span style=\"background-color:FireBrick;\">\u0014</span>plenty <span style=\"background-color:FireBrick;\">k</span>f company<span style=\"background-color:FireBrick;\">\u0014</span>and\r\n",
       "the fence had three coats of <span style=\"background-color:FireBrick;\">7</span>hitewash on it! If he hadn<span style=\"background-color:FireBrick;\">\u0019</span>t run out of\r\n",
       "whitewash he woul<span style=\"background-color:FireBrick;\">l</span> have bankrupted every bo<span style=\"background-color:FireBrick;\">i</span> in the vi<span style=\"background-color:FireBrick;\">d</span>lage.\r\n",
       "\r\n",
       "Tom said to himself that it was not such a hollow world, a<span style=\"background-color:FireBrick;\">g</span>ter all. He\r\n",
       "had discovered a g<span style=\"background-color:FireBrick;\">s</span>eat law of human a<span style=\"background-color:FireBrick;\">C</span>tion, without knowing it<span style=\"background-color:FireBrick;\">\u0014</span>namely,\r\n",
       "that <span style=\"background-color:FireBrick;\">a</span>n order <span style=\"background-color:FireBrick;\">ô</span>o make a man or a boy covet a thing, it <span style=\"background-color:FireBrick;\">m</span>s<span style=\"background-color:FireBrick;\">\"</span>only necessary\r\n",
       "to mak<span style=\"background-color:FireBrick;\">u</span> the t<span style=\"background-color:FireBrick;\">`</span>in<span style=\"background-color:FireBrick;\">ç</span> difficul<span style=\"background-color:FireBrick;\">4</span> to attain.<span style=\"background-color:FireBrick;\">(</span>If he had been a gr<span style=\"background-color:FireBrick;\">å</span>at and<span style=\"background-color:FireBrick;\">\u0005</span>\n",
       "wis<span style=\"background-color:FireBrick;\">%</span> philos<span style=\"background-color:FireBrick;\">ï</span>pher, like <span style=\"background-color:FireBrick;\">ô</span>he writ<span style=\"background-color:FireBrick;\">a</span>r of this book, he would now have<span style=\"background-color:FireBrick;\">\u0005</span>\n",
       "comprehended that Work consists of whatever a body is _obliged_ to do,\r\n",
       "and that Pl<span style=\"background-color:FireBrick;\">á</span>y consists of what<span style=\"background-color:FireBrick;\">E</span>ver a body is not o<span style=\"background-color:FireBrick;\">\"</span>liged to do. And\r\n",
       "this would help him to understand why constructing artifi<span style=\"background-color:FireBrick;\">g</span>ial flowers or\r\n",
       "performing on a tread-mill is work, while r</p></div><div id=\"right_col\"><b>with error correction (p=0.005)</b><p id=\"pout\"> the middle of the afternoon came, from being a\r\n",
       "poor poverty-stricken boy in the<span style=\"background-color:FireBrick;\">%</span>morning, Tom was literally rolling in\r\n",
       "wealth. He had besides the things before mentioned, twelve marbles, part\r\n",
       "of a jews-harp, a piece of blue bottle-glass to look through, a spool\r\n",
       "cannon, a key that wouldn<span style=\"background-color:FireBrick;\">\u0019</span>t unlock anything, a fragment of chalk, a\r\n",
       "glass stopper of a decanter, a tin soldier, a couple of tadpoles,\r\n",
       "six fire-crackers, a kitten with only one eye, a brass door-knob, a\r\n",
       "dog-collar<span style=\"background-color:FireBrick;\">\u0014</span>but no dog<span style=\"background-color:FireBrick;\">\u0014</span>the handle of a knife, four pieces of orange-peel,\r\n",
       "and a dilapidated old window sash.\r\n",
       "\r\n",
       "He had had a ni<span style=\"background-color:FireBrick;\">S</span>e, good, idle time all the while<span style=\"background-color:FireBrick;\">\u0014</span>plenty of company<span style=\"background-color:FireBrick;\">\u0014</span>and\r\n",
       "the fence had three coats of whitewash on it! If he hadn<span style=\"background-color:FireBrick;\">\u0019</span>t run out of\r\n",
       "whitewash he would have bankrupted every boy in the village.\r\n",
       "\r\n",
       "Tom said to himself that it was not such a hollow world, after all. He\r\n",
       "had discovered a great law of human action, without knowing it<span style=\"background-color:FireBrick;\">\u0014</span>namely,\r\n",
       "that in order to make a man or a boy covet a thing, it is only necessary\r\n",
       "to make the thing difficult to attain. If he had been a great and\r\n",
       "wise philosopher, like the writer of this book, he would now have\r\n",
       "comprehended that Work consists of whatever a body is _obliged_ to do,\r\n",
       "and that Play consists of whatever a body is not obliged to do. And\r\n",
       "this would help him to understand why constructing artificial flowers or\r\n",
       "performing on a tread-mill is work, while r</p></div></div>"
      ],
      "text/plain": [
       "<IPython.core.display.HTML object>"
      ]
     },
     "metadata": {},
     "output_type": "display_data"
    }
   ],
   "source": [
    "text_compare(sample, p=0.005)"
   ]
  },
  {
   "cell_type": "code",
   "execution_count": null,
   "metadata": {},
   "outputs": [],
   "source": []
  }
 ],
 "metadata": {
  "kernelspec": {
   "display_name": "Python 3 (ipykernel)",
   "language": "python",
   "name": "python3"
  },
  "language_info": {
   "codemirror_mode": {
    "name": "ipython",
    "version": 3
   },
   "file_extension": ".py",
   "mimetype": "text/x-python",
   "name": "python",
   "nbconvert_exporter": "python",
   "pygments_lexer": "ipython3",
   "version": "3.12.2"
  }
 },
 "nbformat": 4,
 "nbformat_minor": 4
}
