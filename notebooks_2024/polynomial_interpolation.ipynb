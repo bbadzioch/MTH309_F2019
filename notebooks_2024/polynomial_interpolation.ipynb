{
 "cells": [
  {
   "cell_type": "markdown",
   "metadata": {},
   "source": [
    "# Polynomial Interpolation"
   ]
  },
  {
   "cell_type": "markdown",
   "metadata": {},
   "source": [
    "Assume that we are given $k$ points on a plane with coordinates\n",
    "\n",
    "$$(x_1, y_1),\\ (x_2, y_2), \\ \\dots\\ , \\ (x_k, y_k)$$ \n",
    "\n",
    "The goal of polynomial interpolation is to find a polynomial $P(x)$  of a given degree, such that $P(x_i) = y_i$ for $i=1, \\dots, k$. In other words, the graph of the polynomial $P(x)$ must pass\n",
    "though each point $(x_i, y_i)$. \n",
    "<br/>\n",
    "<br/>\n",
    "<img src=\"https://raw.githubusercontent.com/bbadzioch/MTH309_F2019/master/notebooks_2024/polynomial_interpolation.svg?sanitize=true\" style=\"width:280px; border:0px\">\n",
    "<br/>\n",
    "\n",
    "\n",
    "\n",
    "Whether such polynomial $P(x)$ exists and whether it is unique, depends on the selection of points and the degree of $P(x)$.\n",
    "\n",
    "\n",
    "Below there is an example showing how to find an interpolating polynomial by solving a system of linear equations.  \n",
    "\n",
    "<br/>\n",
    "<hr/>"
   ]
  },
  {
   "cell_type": "markdown",
   "metadata": {},
   "source": [
    "### Example.\n",
    "Find a polynomial\n",
    "\n",
    "$$P(x) = a_0 + a_1x + a_2x^2$$\n",
    "\n",
    "of degree 2 whose graph passes through the points $(-1, 4)$, $(2, -8)$, and $(3, -16)$. \n",
    "\n",
    "<br/>\n",
    "<br/>\n",
    "<br/>\n",
    "\n",
    "### Solution. \n",
    "We are looking for a polynomial $P(x) = a_0 + a_1x + a_2x^2$ such that \n",
    "$P(-1) = 4$, $P(2) = -8$, and $P(3) = -16$. \n",
    "\n",
    "The first equation, $P(-1) = 4$ gives: \n",
    "\n",
    "$$a_0 + (-1)a_1 + (-1)^2 a_2 = 4$$\n",
    "\n",
    "From the second equation, $P(2) = -8$ we obtain:\n",
    "\n",
    "$$a_0 + 2a_1 + 2^2a_2 = -8$$\n",
    "\n",
    "Finally, the third equation, $P(3) = -16$ gives:\n",
    "$$a_0 + 3a_1 + 3^2a_2 = -16$$\n",
    "\n",
    "\n",
    "Altogether we obtain a system of linear equations with $a_0$, $a_1$ and $a_2$ as unknowns:\n",
    "\n",
    "<br/>\n",
    "\n",
    "$$\n",
    "\\begin{cases}\n",
    "a_0 + (-1)a_1 + (-1)^2 a_2 = 4 \\\\\n",
    "a_0 + 2a_1 + 2^2a_2 = -8 \\\\\n",
    "a_0 + 3a_1 + 3^2a_2 = -16 \\\\\n",
    "\\end{cases}\n",
    "$$\n",
    "\n",
    "Notice that the coefficient matrix of this system has as its rows powers of $x$-coordinates of the points $(-1, 4),(2, -8)$ and $(3, -16)$ (the first entry of each row, $1$, is the $0^{\\text{th}}$ power):\n",
    "\n",
    "$$\n",
    "\\begin{bmatrix}\n",
    "\\ 1 & -1 & (-1)^2 \\\\\n",
    "\\ 1 &  \\phantom{-}2 & 2^2 \\\\\n",
    "\\ 1 &  \\phantom{-}3 & 3^2 \\\\\n",
    "\\end{bmatrix}\n",
    "$$\n",
    "\n",
    "The vector of constants consists of $y$-coordinates of these points:\n",
    "\n",
    "$$\n",
    "\\begin{bmatrix}\n",
    "\\phantom{-1}4 \\\\\n",
    "\\phantom{}-8 \\\\\n",
    "-16 \\\\\n",
    "\\end{bmatrix}\n",
    "$$\n",
    "\n",
    "<br/>\n",
    "\n",
    "We will use Python to solve this system. First we load the `sympy` module: "
   ]
  },
  {
   "cell_type": "code",
   "execution_count": 1,
   "metadata": {},
   "outputs": [],
   "source": [
    "#load sympy content\n",
    "from sympy import *\n",
    "\n",
    "#this makes printouts of matrices and vectors more readeable:\n",
    "init_printing(use_latex='mathjax')"
   ]
  },
  {
   "cell_type": "markdown",
   "metadata": {},
   "source": [
    "Next, we enter the augmented matrix of the system:"
   ]
  },
  {
   "cell_type": "code",
   "execution_count": 2,
   "metadata": {},
   "outputs": [
    {
     "data": {
      "text/latex": [
       "$$\\left[\\begin{matrix}1 & -1 & 1 & 4\\\\1 & 2 & 4 & -8\\\\1 & 3 & 9 & -16\\end{matrix}\\right]$$"
      ],
      "text/plain": [
       "⎡1  -1  1   4 ⎤\n",
       "⎢             ⎥\n",
       "⎢1  2   4  -8 ⎥\n",
       "⎢             ⎥\n",
       "⎣1  3   9  -16⎦"
      ]
     },
     "execution_count": 2,
     "metadata": {},
     "output_type": "execute_result"
    }
   ],
   "source": [
    "# augmented matrix; x**n computes the n-th power of x \n",
    "A  = Matrix([[1, -1, (-1)**2, 4], [1, 2, 2**2, -8], [1, 3, 3**2, -16]])\n",
    "A"
   ]
  },
  {
   "cell_type": "markdown",
   "metadata": {},
   "source": [
    "Finally, we compute the reduced row echelon form of the augmented matrix:"
   ]
  },
  {
   "cell_type": "code",
   "execution_count": 3,
   "metadata": {},
   "outputs": [
    {
     "data": {
      "text/latex": [
       "$$\\left ( \\left[\\begin{matrix}1 & 0 & 0 & 2\\\\0 & 1 & 0 & -3\\\\0 & 0 & 1 & -1\\end{matrix}\\right], \\quad \\left ( 0, \\quad 1, \\quad 2\\right )\\right )$$"
      ],
      "text/plain": [
       "⎛⎡1  0  0  2 ⎤           ⎞\n",
       "⎜⎢           ⎥           ⎟\n",
       "⎜⎢0  1  0  -3⎥, (0, 1, 2)⎟\n",
       "⎜⎢           ⎥           ⎟\n",
       "⎝⎣0  0  1  -1⎦           ⎠"
      ]
     },
     "execution_count": 3,
     "metadata": {},
     "output_type": "execute_result"
    }
   ],
   "source": [
    "A.rref()"
   ]
  },
  {
   "cell_type": "markdown",
   "metadata": {},
   "source": [
    "This shows that the system of equations has only one solution:\n",
    "\n",
    "$$\n",
    "\\begin{cases}\n",
    "a_0 = \\phantom{-}2 \\\\\n",
    "a_1 = -3 \\\\\n",
    "a_2 = -1 \\\\\n",
    "\\end{cases}\n",
    "$$\n",
    "\n",
    "As a consequence, there is only one polynomial $P(x)$ of degree 2 whose graph passes through the points   $(-1, 4),(2, -8),\\ (3, -16)$. This polynomial is given by the formula $P(x) = 2 -3x - x^2$. "
   ]
  }
 ],
 "metadata": {
  "kernelspec": {
   "display_name": "Python 3",
   "language": "python",
   "name": "python3"
  },
  "language_info": {
   "codemirror_mode": {
    "name": "ipython",
    "version": 3
   },
   "file_extension": ".py",
   "mimetype": "text/x-python",
   "name": "python",
   "nbconvert_exporter": "python",
   "pygments_lexer": "ipython3",
   "version": "3.7.1"
  }
 },
 "nbformat": 4,
 "nbformat_minor": 2
}
