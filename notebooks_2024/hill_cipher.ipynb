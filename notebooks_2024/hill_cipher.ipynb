{
 "cells": [
  {
   "cell_type": "markdown",
   "metadata": {},
   "source": [
    "### Execute the cell below before proceeding.\n",
    "\n",
    "The code in this cell will download a file with a Python scripts from the Internet. Make sure that you have a network connection before executing it."
   ]
  },
  {
   "cell_type": "code",
   "execution_count": 1,
   "metadata": {},
   "outputs": [],
   "source": [
    "import requests\n",
    "with open(\"hill_cipher.py\", 'w') as foo:\n",
    "    foo.write(requests.get(\"https://raw.githubusercontent.com/bbadzioch/MTH309_F2019/master/notebooks_2024/hill_cipher.py\").text)\n",
    "with open(\"hill_cipher_samples.py\", 'w') as foo:\n",
    "    foo.write(requests.get(\"https://raw.githubusercontent.com/bbadzioch/MTH309_F2019/master/notebooks_2024/hill_cipher_samples.py\").text)\n",
    "from hill_cipher import *"
   ]
  },
  {
   "cell_type": "markdown",
   "metadata": {},
   "source": [
    "# Hill cipher"
   ]
  },
  {
   "cell_type": "markdown",
   "metadata": {},
   "source": [
    "This goal of this notebook is to show how messages can be encrypted and decrypted with the Hill cipher. For simplicity we will assume here that messages that we want to encrypt consist of capital letters A-Z and the space character only. "
   ]
  },
  {
   "cell_type": "markdown",
   "metadata": {},
   "source": [
    "## Encryption"
   ]
  },
  {
   "cell_type": "markdown",
   "metadata": {},
   "source": [
    "As an example we will encrypt the message \"TOP SECRET\""
   ]
  },
  {
   "cell_type": "markdown",
   "metadata": {},
   "source": [
    "**Step 1.** The first step is to select an invertible matrix that will serve as the encryption key. Here we will use the following matrix $K$:"
   ]
  },
  {
   "cell_type": "code",
   "execution_count": 2,
   "metadata": {},
   "outputs": [
    {
     "data": {
      "text/latex": [
       "$\\displaystyle \\left[\\begin{matrix}1 & 1 & 1\\\\2 & 1 & 4\\\\1 & 0 & 2\\end{matrix}\\right]$"
      ],
      "text/plain": [
       "⎡1  1  1⎤\n",
       "⎢       ⎥\n",
       "⎢2  1  4⎥\n",
       "⎢       ⎥\n",
       "⎣1  0  2⎦"
      ]
     },
     "execution_count": 2,
     "metadata": {},
     "output_type": "execute_result"
    }
   ],
   "source": [
    "K = Matrix([[1, 1, 1], [2, 1, 4], [1, 0, 2]])\n",
    "K"
   ]
  },
  {
   "cell_type": "markdown",
   "metadata": {},
   "source": [
    "Since $K$ a $3\\times 3$ matrix, the number of characters in a message we encrypt with it must be divisible by 3.  \"TOP SECRET\" consists of 10 characters (9 letters and a space), so we will add two characters \"X\" at its end to satisfy this requirement. Thus he whole text we will encrypt will be \"TOP SECRETXX\":"
   ]
  },
  {
   "cell_type": "code",
   "execution_count": 3,
   "metadata": {},
   "outputs": [],
   "source": [
    "message = \"TOP SECRETXX\""
   ]
  },
  {
   "cell_type": "markdown",
   "metadata": {},
   "source": [
    "**Step 2.** Next, we replace letters in the message with numbers using the following scheme (the underscore stands for the space character):"
   ]
  },
  {
   "cell_type": "code",
   "execution_count": 4,
   "metadata": {},
   "outputs": [
    {
     "name": "stdout",
     "output_type": "stream",
     "text": [
      "  _  A  B  C  D  E  F  G  H  I  J  K  L  M  N  O  P  Q  R  S  T  U  V  W  X  Y  Z\n",
      "  0  1  2  3  4  5  6  7  8  9 10 11 12 13 14 15 16 17 18 19 20 21 22 23 24 25 26"
     ]
    }
   ],
   "source": [
    "show_encoding()"
   ]
  },
  {
   "cell_type": "markdown",
   "metadata": {},
   "source": [
    "The function `char2num()` can be used to perform the letter to number replacement automatically:"
   ]
  },
  {
   "cell_type": "code",
   "execution_count": 5,
   "metadata": {},
   "outputs": [
    {
     "data": {
      "text/latex": [
       "$\\displaystyle \\left[ 20, \\  15, \\  16, \\  0, \\  19, \\  5, \\  3, \\  18, \\  5, \\  20, \\  24, \\  24\\right]$"
      ],
      "text/plain": [
       "[20, 15, 16, 0, 19, 5, 3, 18, 5, 20, 24, 24]"
      ]
     },
     "execution_count": 5,
     "metadata": {},
     "output_type": "execute_result"
    }
   ],
   "source": [
    "numbers = char2num(message)\n",
    "numbers"
   ]
  },
  {
   "cell_type": "markdown",
   "metadata": {},
   "source": [
    "**Step 3.** The next step is to split the above list of numbers into vectors with 3 entries each. This can be done as follows:"
   ]
  },
  {
   "cell_type": "code",
   "execution_count": 6,
   "metadata": {},
   "outputs": [
    {
     "data": {
      "text/latex": [
       "$\\displaystyle \\left( \\left[\\begin{matrix}20\\\\15\\\\16\\end{matrix}\\right], \\  \\left[\\begin{matrix}0\\\\19\\\\5\\end{matrix}\\right], \\  \\left[\\begin{matrix}3\\\\18\\\\5\\end{matrix}\\right], \\  \\left[\\begin{matrix}20\\\\24\\\\24\\end{matrix}\\right]\\right)$"
      ],
      "text/plain": [
       "⎛⎡20⎤  ⎡0 ⎤  ⎡3 ⎤  ⎡20⎤⎞\n",
       "⎜⎢  ⎥  ⎢  ⎥  ⎢  ⎥  ⎢  ⎥⎟\n",
       "⎜⎢15⎥, ⎢19⎥, ⎢18⎥, ⎢24⎥⎟\n",
       "⎜⎢  ⎥  ⎢  ⎥  ⎢  ⎥  ⎢  ⎥⎟\n",
       "⎝⎣16⎦  ⎣5 ⎦  ⎣5 ⎦  ⎣24⎦⎠"
      ]
     },
     "execution_count": 6,
     "metadata": {},
     "output_type": "execute_result"
    }
   ],
   "source": [
    "v1 = Matrix(numbers[:3])  # a vector consisting of the first 3 entries of the list\n",
    "v2 = Matrix(numbers[3:6]) # a vector consisting of the next 3 entries of the list\n",
    "v3 = Matrix(numbers[6:9]) # and so on...\n",
    "v4 = Matrix(numbers[9:12])\n",
    "v1, v2, v3, v4"
   ]
  },
  {
   "cell_type": "markdown",
   "metadata": {},
   "source": [
    "**Step 4.** Next, we multiply each vector by the encryption matrix $K$:"
   ]
  },
  {
   "cell_type": "code",
   "execution_count": 7,
   "metadata": {},
   "outputs": [
    {
     "data": {
      "text/latex": [
       "$\\displaystyle \\left( \\left[\\begin{matrix}51\\\\119\\\\52\\end{matrix}\\right], \\  \\left[\\begin{matrix}24\\\\39\\\\10\\end{matrix}\\right], \\  \\left[\\begin{matrix}26\\\\44\\\\13\\end{matrix}\\right], \\  \\left[\\begin{matrix}68\\\\160\\\\68\\end{matrix}\\right]\\right)$"
      ],
      "text/plain": [
       "⎛⎡51 ⎤  ⎡24⎤  ⎡26⎤  ⎡68 ⎤⎞\n",
       "⎜⎢   ⎥  ⎢  ⎥  ⎢  ⎥  ⎢   ⎥⎟\n",
       "⎜⎢119⎥, ⎢39⎥, ⎢44⎥, ⎢160⎥⎟\n",
       "⎜⎢   ⎥  ⎢  ⎥  ⎢  ⎥  ⎢   ⎥⎟\n",
       "⎝⎣52 ⎦  ⎣10⎦  ⎣13⎦  ⎣68 ⎦⎠"
      ]
     },
     "execution_count": 7,
     "metadata": {},
     "output_type": "execute_result"
    }
   ],
   "source": [
    "w1 = K*v1\n",
    "w2 = K*v2\n",
    "w3 = K*v3\n",
    "w4 = K*v4\n",
    "w1, w2, w3, w4"
   ]
  },
  {
   "cell_type": "markdown",
   "metadata": {},
   "source": [
    "Entries of these new vectors, written as a list, form the encrypted message:"
   ]
  },
  {
   "cell_type": "code",
   "execution_count": 8,
   "metadata": {},
   "outputs": [
    {
     "data": {
      "text/latex": [
       "$\\displaystyle \\left[ 51, \\  119, \\  52, \\  24, \\  39, \\  10, \\  26, \\  44, \\  13, \\  68, \\  160, \\  68\\right]$"
      ],
      "text/plain": [
       "[51, 119, 52, 24, 39, 10, 26, 44, 13, 68, 160, 68]"
      ]
     },
     "execution_count": 8,
     "metadata": {},
     "output_type": "execute_result"
    }
   ],
   "source": [
    "cipher = list(Matrix([w1, w2, w3, w4]))\n",
    "cipher"
   ]
  },
  {
   "cell_type": "markdown",
   "metadata": {},
   "source": [
    "## Decryption"
   ]
  },
  {
   "cell_type": "markdown",
   "metadata": {},
   "source": [
    "Here we show how to recover text from the encrypted message. We will use the encrypted message produced above:"
   ]
  },
  {
   "cell_type": "code",
   "execution_count": 9,
   "metadata": {},
   "outputs": [
    {
     "data": {
      "text/latex": [
       "$\\displaystyle \\left[ 51, \\  119, \\  52, \\  24, \\  39, \\  10, \\  26, \\  44, \\  13, \\  68, \\  160, \\  68\\right]$"
      ],
      "text/plain": [
       "[51, 119, 52, 24, 39, 10, 26, 44, 13, 68, 160, 68]"
      ]
     },
     "execution_count": 9,
     "metadata": {},
     "output_type": "execute_result"
    }
   ],
   "source": [
    "cipher"
   ]
  },
  {
   "cell_type": "markdown",
   "metadata": {},
   "source": [
    "**Step 1.** We compute the inverse of the encryption matrix $K$:"
   ]
  },
  {
   "cell_type": "code",
   "execution_count": 10,
   "metadata": {},
   "outputs": [
    {
     "data": {
      "text/latex": [
       "$\\displaystyle \\left[\\begin{matrix}2 & -2 & 3\\\\0 & 1 & -2\\\\-1 & 1 & -1\\end{matrix}\\right]$"
      ],
      "text/plain": [
       "⎡2   -2  3 ⎤\n",
       "⎢          ⎥\n",
       "⎢0   1   -2⎥\n",
       "⎢          ⎥\n",
       "⎣-1  1   -1⎦"
      ]
     },
     "execution_count": 10,
     "metadata": {},
     "output_type": "execute_result"
    }
   ],
   "source": [
    "D = K.inv()\n",
    "D"
   ]
  },
  {
   "cell_type": "markdown",
   "metadata": {},
   "source": [
    "The matrix $D$ is the decryption key. "
   ]
  },
  {
   "cell_type": "markdown",
   "metadata": {},
   "source": [
    "**Step 2.** Next, we split the encrypted message into vectors with 3 entries:"
   ]
  },
  {
   "cell_type": "code",
   "execution_count": 11,
   "metadata": {},
   "outputs": [
    {
     "data": {
      "text/latex": [
       "$\\displaystyle \\left( \\left[\\begin{matrix}51\\\\119\\\\52\\end{matrix}\\right], \\  \\left[\\begin{matrix}24\\\\39\\\\10\\end{matrix}\\right], \\  \\left[\\begin{matrix}26\\\\44\\\\13\\end{matrix}\\right], \\  \\left[\\begin{matrix}68\\\\160\\\\68\\end{matrix}\\right]\\right)$"
      ],
      "text/plain": [
       "⎛⎡51 ⎤  ⎡24⎤  ⎡26⎤  ⎡68 ⎤⎞\n",
       "⎜⎢   ⎥  ⎢  ⎥  ⎢  ⎥  ⎢   ⎥⎟\n",
       "⎜⎢119⎥, ⎢39⎥, ⎢44⎥, ⎢160⎥⎟\n",
       "⎜⎢   ⎥  ⎢  ⎥  ⎢  ⎥  ⎢   ⎥⎟\n",
       "⎝⎣52 ⎦  ⎣10⎦  ⎣13⎦  ⎣68 ⎦⎠"
      ]
     },
     "execution_count": 11,
     "metadata": {},
     "output_type": "execute_result"
    }
   ],
   "source": [
    "u1 = Matrix(cipher[:3])  # a vector consisting of the first 3 numbers of the encrypted message\n",
    "u2 = Matrix(cipher[3:6]) # a vector consisting of the next 3 numbers of the encrypted message\n",
    "u3 = Matrix(cipher[6:9]) # and so on...\n",
    "u4 = Matrix(cipher[9:12])\n",
    "u1, u2, u3, u4"
   ]
  },
  {
   "cell_type": "markdown",
   "metadata": {},
   "source": [
    "**Step 3.** We multiply each vector by the matrix $D$:"
   ]
  },
  {
   "cell_type": "code",
   "execution_count": 12,
   "metadata": {},
   "outputs": [
    {
     "data": {
      "text/latex": [
       "$\\displaystyle \\left( \\left[\\begin{matrix}20\\\\15\\\\16\\end{matrix}\\right], \\  \\left[\\begin{matrix}0\\\\19\\\\5\\end{matrix}\\right], \\  \\left[\\begin{matrix}3\\\\18\\\\5\\end{matrix}\\right], \\  \\left[\\begin{matrix}20\\\\24\\\\24\\end{matrix}\\right]\\right)$"
      ],
      "text/plain": [
       "⎛⎡20⎤  ⎡0 ⎤  ⎡3 ⎤  ⎡20⎤⎞\n",
       "⎜⎢  ⎥  ⎢  ⎥  ⎢  ⎥  ⎢  ⎥⎟\n",
       "⎜⎢15⎥, ⎢19⎥, ⎢18⎥, ⎢24⎥⎟\n",
       "⎜⎢  ⎥  ⎢  ⎥  ⎢  ⎥  ⎢  ⎥⎟\n",
       "⎝⎣16⎦  ⎣5 ⎦  ⎣5 ⎦  ⎣24⎦⎠"
      ]
     },
     "execution_count": 12,
     "metadata": {},
     "output_type": "execute_result"
    }
   ],
   "source": [
    "z1 = D*u1\n",
    "z2 = D*u2\n",
    "z3 = D*u3\n",
    "z4 = D*u4\n",
    "z1, z2, z3, z4"
   ]
  },
  {
   "cell_type": "markdown",
   "metadata": {},
   "source": [
    "**Step 4.** We combine entries of these vectors into a list of numbers:"
   ]
  },
  {
   "cell_type": "code",
   "execution_count": 13,
   "metadata": {},
   "outputs": [
    {
     "data": {
      "text/latex": [
       "$\\displaystyle \\left[ 20, \\  15, \\  16, \\  0, \\  19, \\  5, \\  3, \\  18, \\  5, \\  20, \\  24, \\  24\\right]$"
      ],
      "text/plain": [
       "[20, 15, 16, 0, 19, 5, 3, 18, 5, 20, 24, 24]"
      ]
     },
     "execution_count": 13,
     "metadata": {},
     "output_type": "execute_result"
    }
   ],
   "source": [
    "numbers = list(Matrix([z1, z2, z3, z4]))\n",
    "numbers"
   ]
  },
  {
   "cell_type": "markdown",
   "metadata": {},
   "source": [
    "**Step 5.** It remains to convert the list of numbers into letters. The function `num2char()` can be used for this task:"
   ]
  },
  {
   "cell_type": "code",
   "execution_count": 14,
   "metadata": {},
   "outputs": [
    {
     "name": "stdout",
     "output_type": "stream",
     "text": [
      "  20  15  16   0  19   5   3  18   5  20  24  24\n",
      "   T   O   P   _   S   E   C   R   E   T   X   X\n",
      "\n"
     ]
    }
   ],
   "source": [
    "num2char(numbers)"
   ]
  },
  {
   "cell_type": "markdown",
   "metadata": {},
   "source": [
    "The function `num2char_text_only()` works similarly, but it prints characters only, without the corresponding numbers:"
   ]
  },
  {
   "cell_type": "code",
   "execution_count": 15,
   "metadata": {},
   "outputs": [
    {
     "data": {
      "text/plain": [
       "'TOP_SECRETXX'"
      ]
     },
     "execution_count": 15,
     "metadata": {},
     "output_type": "execute_result"
    }
   ],
   "source": [
    "num2char_text_only(numbers)"
   ]
  }
 ],
 "metadata": {
  "kernelspec": {
   "display_name": "Python 3 (ipykernel)",
   "language": "python",
   "name": "python3"
  },
  "language_info": {
   "codemirror_mode": {
    "name": "ipython",
    "version": 3
   },
   "file_extension": ".py",
   "mimetype": "text/x-python",
   "name": "python",
   "nbconvert_exporter": "python",
   "pygments_lexer": "ipython3",
   "version": "3.12.2"
  }
 },
 "nbformat": 4,
 "nbformat_minor": 4
}
