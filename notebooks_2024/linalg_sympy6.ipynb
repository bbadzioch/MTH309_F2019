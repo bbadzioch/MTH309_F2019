{
 "cells": [
  {
   "cell_type": "markdown",
   "metadata": {},
   "source": [
    "# Linear algebra with Python and SymPy (part 6)"
   ]
  },
  {
   "cell_type": "code",
   "execution_count": 1,
   "metadata": {},
   "outputs": [],
   "source": [
    "#load SymPy module content\n",
    "from sympy import *\n",
    "\n",
    "#this makes printouts of matrices and vectors more readeable:\n",
    "init_printing(use_latex='mathjax')"
   ]
  },
  {
   "cell_type": "markdown",
   "metadata": {},
   "source": [
    "## Singular Value Decomposition"
   ]
  },
  {
   "cell_type": "code",
   "execution_count": 2,
   "metadata": {},
   "outputs": [
    {
     "data": {
      "text/latex": [
       "$\\displaystyle \\left[\\begin{matrix}0 & 1 & 2 & 3\\\\4 & 6 & 7 & 0\\\\1 & 1 & 0 & 0\\end{matrix}\\right]$"
      ],
      "text/plain": [
       "⎡0  1  2  3⎤\n",
       "⎢          ⎥\n",
       "⎢4  6  7  0⎥\n",
       "⎢          ⎥\n",
       "⎣1  1  0  0⎦"
      ]
     },
     "execution_count": 2,
     "metadata": {},
     "output_type": "execute_result"
    }
   ],
   "source": [
    "A = Matrix([[0, 1, 2, 3], [4, 6, 7, 0], [1, 1, 0, 0]])\n",
    "A"
   ]
  },
  {
   "cell_type": "markdown",
   "metadata": {},
   "source": [
    "`sympy` does not include a function for computing singular value decomposition, but such function can be imported from from `mpmath`:"
   ]
  },
  {
   "cell_type": "code",
   "execution_count": 3,
   "metadata": {},
   "outputs": [],
   "source": [
    "from mpmath import svd"
   ]
  },
  {
   "cell_type": "code",
   "execution_count": 4,
   "metadata": {},
   "outputs": [],
   "source": [
    "U, S, V = svd(A)"
   ]
  },
  {
   "cell_type": "markdown",
   "metadata": {},
   "source": [
    "`U` and `V` are orthogonal matrices, `S` is the vector of singular values:"
   ]
  },
  {
   "cell_type": "code",
   "execution_count": 5,
   "metadata": {},
   "outputs": [
    {
     "data": {
      "text/latex": [
       "$\\displaystyle \\left[\\begin{matrix}-0.211721215903945 & -0.971337526391343 & 0.108062651087702\\\\-0.972676773708509 & 0.198644273600799 & -0.120167992633721\\\\-0.0952576538875581 & 0.130552144331522 & 0.986854658491451\\end{matrix}\\right]$"
      ],
      "text/plain": [
       "⎡-0.211721215903945   -0.971337526391343  0.108062651087702 ⎤\n",
       "⎢                                                           ⎥\n",
       "⎢-0.972676773708509   0.198644273600799   -0.120167992633721⎥\n",
       "⎢                                                           ⎥\n",
       "⎣-0.0952576538875581  0.130552144331522   0.986854658491451 ⎦"
      ]
     },
     "execution_count": 5,
     "metadata": {},
     "output_type": "execute_result"
    }
   ],
   "source": [
    "U"
   ]
  },
  {
   "cell_type": "code",
   "execution_count": 6,
   "metadata": {},
   "outputs": [
    {
     "data": {
      "text/plain": [
       "matrix(\n",
       "[['10.3117751931661'],\n",
       " ['3.12657593986521'],\n",
       " ['0.944359707876459']])"
      ]
     },
     "execution_count": 6,
     "metadata": {},
     "output_type": "execute_result"
    }
   ],
   "source": [
    "S"
   ]
  },
  {
   "cell_type": "code",
   "execution_count": 7,
   "metadata": {},
   "outputs": [
    {
     "data": {
      "text/plain": [
       "matrix(\n",
       "[['-0.386544961857121', '-0.595730550459802', '-0.701351582272704', '-0.0615959556733527'],\n",
       " ['0.295892137766083', '0.112289055598665', '-0.176603782603437', '-0.932014009965052'],\n",
       " ['0.536006231242966', '0.395939545766543', '-0.661877715712972', '0.34328863309098']])"
      ]
     },
     "execution_count": 7,
     "metadata": {},
     "output_type": "execute_result"
    }
   ],
   "source": [
    "V"
   ]
  },
  {
   "cell_type": "markdown",
   "metadata": {},
   "source": [
    "`S` and `V` are not displayed nicely since they are `mpmath` matrices, and not `sympy` matrices. This can be fixed as follows:"
   ]
  },
  {
   "cell_type": "code",
   "execution_count": 8,
   "metadata": {},
   "outputs": [
    {
     "data": {
      "text/latex": [
       "$\\displaystyle \\left[\\begin{matrix}-0.386544961857121 & -0.595730550459802 & -0.701351582272704 & -0.0615959556733527\\\\0.295892137766083 & 0.112289055598665 & -0.176603782603437 & -0.932014009965052\\\\0.536006231242966 & 0.395939545766543 & -0.661877715712972 & 0.34328863309098\\end{matrix}\\right]$"
      ],
      "text/plain": [
       "⎡-0.386544961857121  -0.595730550459802  -0.701351582272704  -0.06159595567335\n",
       "⎢                                                                             \n",
       "⎢0.295892137766083   0.112289055598665   -0.176603782603437  -0.93201400996505\n",
       "⎢                                                                             \n",
       "⎣0.536006231242966   0.395939545766543   -0.661877715712972   0.34328863309098\n",
       "\n",
       "27⎤\n",
       "  ⎥\n",
       "2 ⎥\n",
       "  ⎥\n",
       "  ⎦"
      ]
     },
     "execution_count": 8,
     "metadata": {},
     "output_type": "execute_result"
    }
   ],
   "source": [
    "import numpy as np\n",
    "V = Matrix(np.array(V.tolist(),dtype=np.float64))\n",
    "V"
   ]
  },
  {
   "cell_type": "code",
   "execution_count": 9,
   "metadata": {},
   "outputs": [
    {
     "data": {
      "text/latex": [
       "$\\displaystyle \\left[\\begin{matrix}10.3117751931661 & 0 & 0\\\\0 & 3.12657593986521 & 0\\\\0 & 0 & 0.944359707876459\\end{matrix}\\right]$"
      ],
      "text/plain": [
       "⎡10.3117751931661         0                  0        ⎤\n",
       "⎢                                                     ⎥\n",
       "⎢       0          3.12657593986521          0        ⎥\n",
       "⎢                                                     ⎥\n",
       "⎣       0                 0          0.944359707876459⎦"
      ]
     },
     "execution_count": 9,
     "metadata": {},
     "output_type": "execute_result"
    }
   ],
   "source": [
    "S = diag(*[Float(x) for x in S])\n",
    "S"
   ]
  }
 ],
 "metadata": {
  "kernelspec": {
   "display_name": "Python 3 (ipykernel)",
   "language": "python",
   "name": "python3"
  },
  "language_info": {
   "codemirror_mode": {
    "name": "ipython",
    "version": 3
   },
   "file_extension": ".py",
   "mimetype": "text/x-python",
   "name": "python",
   "nbconvert_exporter": "python",
   "pygments_lexer": "ipython3",
   "version": "3.12.2"
  }
 },
 "nbformat": 4,
 "nbformat_minor": 4
}
