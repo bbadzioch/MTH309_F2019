{
 "cells": [
  {
   "cell_type": "markdown",
   "metadata": {},
   "source": [
    "# Networks and Paths"
   ]
  },
  {
   "cell_type": "markdown",
   "metadata": {},
   "source": [
    "## Networks\n",
    "\n",
    "The image below shows an example of  a *network*. The yellow circles are network **nodes**. Arrows are network **edges**, and they indicate which node is connected to which other nodes. A double headed arrow \n",
    "${\\tt i \\leftrightarrow j}$ means that there is an edge ${\\tt i \\rightarrow j}$ and an edge ${\\tt i\\leftarrow j}$.\n",
    "\n",
    "<br/>\n",
    "<img src=\"https://raw.githubusercontent.com/bbadzioch/MTH309_F2019/master/notebooks_2024/network.png\" style=\"width: 300px;\">\n",
    "\n",
    "<br/>\n",
    "\n",
    "\n",
    "Networks are used to represent a variety of structures. For example:\n",
    "\n",
    "- **Computer networks:** e.g. which computer can send data to which other computers.\n",
    "- **Networks of webpages:** which webpage has links to which other webpages.\n",
    "- **Transportation networks:** e.g. which airport has a direct connection to which other airports.\n",
    "- **Social networks:** e.g. who likes whom.\n",
    "\n"
   ]
  },
  {
   "cell_type": "markdown",
   "metadata": {},
   "source": [
    "## Adjacency matrix\n",
    "\n",
    "An **adjacency matrix** is a  way of representing a network mathematically. It is a square matrix $A$ whose rows and columns are labeled by nodes of the network. If $a_{\\tt ij}$ denotes the entry of $A$ in the column $\\tt j$ and row $\\tt i$, then \n",
    "\n",
    "<br/>\n",
    "\n",
    "$$\n",
    "a_{\\tt ij} = \n",
    "\\begin{cases}\n",
    "1 & \\text{if the network has an edge  $\\tt{i {\\color{red}\\leftarrow} j}$} \\\\\n",
    "0 & \\text{otherwise} \\\\\n",
    "\\end{cases}\n",
    "$$\n",
    "\n",
    "\n",
    "For example, the adjacency matrix of the network shown above looks as follows:\n",
    "\n",
    "<br/>\n",
    "\n",
    "$$\n",
    "\\begin{matrix}\n",
    "\\phantom{0} & \\phantom{\\leftarrow}\\\\\n",
    "\\end{matrix}\n",
    "\\hskip 3.5mm\n",
    "\\begin{matrix}\n",
    "{\\tt \\color{blue}1} & {\\tt \\color{blue}2} & {\\tt \\color{blue}3} & {\\tt \\color{blue}4} & {\\tt \\color{blue}5} \\\\\n",
    "{\\tt \\color{blue}\\downarrow} & {\\tt \\color{blue}\\downarrow} & {\\tt \\color{blue}\\downarrow} & {\\tt \\color{blue}\\downarrow} & {\\tt \\color{blue}\\downarrow} \\\\\n",
    "\\end{matrix}\n",
    "$$\n",
    "\n",
    "$$\n",
    "\\begin{matrix}\n",
    "{\\tt \\color{blue}1} & {\\tt \\color{blue}\\leftarrow}\\\\ \n",
    "{\\tt \\color{blue}2} & {\\tt \\color{blue}\\leftarrow}\\\\ \n",
    "{\\tt \\color{blue}3} & {\\tt \\color{blue}\\leftarrow}\\\\ \n",
    "{\\tt \\color{blue}4} & {\\tt \\color{blue}\\leftarrow}\\\\ \n",
    "{\\tt \\color{blue}5} & {\\tt \\color{blue}\\leftarrow}\\\\ \n",
    "\\end{matrix}\n",
    "\\hskip 3mm\n",
    "\\begin{bmatrix}\n",
    "0 & 1 & 0 & 1 & 0 \\\\\n",
    "0 & 0 & 0 & 1 & 0 \\\\\n",
    "1 & 0 & 0 & 1 & 1 \\\\\n",
    "0 & 1 & 1 & 0 & 1 \\\\\n",
    "0 & 1 & 0 & 1 & 0 \\\\\n",
    "\\end{bmatrix}\n",
    "$$"
   ]
  },
  {
   "cell_type": "markdown",
   "metadata": {},
   "source": [
    "## Network paths\n",
    "\n",
    "A **path** in a network is a sequence of edges, such that each edge ends at a node at which the following edge begins. Here are some examples of paths in our sample network:\n",
    "\n",
    "$$\\tt{1\\  {\\color{red}\\leftarrow}\\  2 }$$\n",
    "\n",
    "$$\\tt{1\\  {\\color{red}\\leftarrow}\\  4\\  {\\color{red}\\leftarrow}\\  5 }$$\n",
    "\n",
    "$$\\tt{1\\  {\\color{red}\\leftarrow}\\  2\\  {\\color{red}\\leftarrow}\\  4 \\ {\\color{red}\\leftarrow}\\  2 }$$\n",
    "\n",
    "$$\\tt{4\\  {\\color{red}\\leftarrow}\\  3\\  {\\color{red}\\leftarrow}\\  1\\ {\\color{red}\\leftarrow}\\  4  \\ {\\color{red}\\leftarrow}\\  3\\  {\\color{red}\\leftarrow}\\  1}$$\n",
    "\n",
    "The **length** of a path is the number of edges the path consists of. For example, the paths shown above have lengths 1, 2, 3, and 5, respectively. \n"
   ]
  },
  {
   "cell_type": "markdown",
   "metadata": {},
   "source": [
    "## Counting paths\n",
    "\n",
    "Since a path of length 1 is simply an edge of the network, the adjacency matrix $A = [a_{\\tt ij}]$ can be seen as a table which gives, for any nodes $\\tt j$ and $\\tt i$, the number of paths of length 1 that start at \n",
    "$\\tt j$  and end at $\\tt i$.\n",
    "\n",
    "\n",
    "It turns out that we can also use the adjacency matrix to calculate the number of paths of other lengths. \n",
    "For example, lets say that we want to compute the number of paths of length 2  which start at a node $\\tt j$ and end at a node $\\tt i$:\n",
    "\n",
    "\n",
    "$${\\tt i}\\  {\\color{red}\\leftarrow} {\\ \\large \\bullet\\ } {\\color{red}\\leftarrow}\\  {\\tt j}$$\n",
    "\n",
    "The number of such paths can be \n",
    "obtained by multiplying the ${\\tt i}^{\\text{th}}$ row and the ${\\tt j}^{\\text{th}}$ column\n",
    "of the adjacency matrix $A = [a_{\\tt ij}]$:\n",
    "\n",
    "<br/>\n",
    "\n",
    "$$\n",
    "\\begin{bmatrix}\n",
    " a_{\\tt i1}& a_{\\tt i2} & \\cdots & a_{\\tt in} \\\\\n",
    "\\end{bmatrix}\n",
    "\\cdot \n",
    "\\begin{bmatrix}\n",
    "a_{\\tt 1j}\\\\\n",
    "a_{\\tt 2j}\\\\\n",
    "\\vdots \\\\ \n",
    "a_{\\tt nj}\\\\\n",
    "\\end{bmatrix}\n",
    "\\ = \\ (a_{\\tt i1}\\cdot  a_{\\tt 1j}) + (a_{\\tt i2}\\cdot  a_{\\tt 2j}) + \\dots + (a_{\\tt in}\\cdot  a_{\\tt nj})\n",
    "$$\n",
    "\n",
    "\n",
    "Indeed, each product $a_{\\tt ik}\\cdot  a_{\\tt kj}$ is equal to either 0 or 1. Moreover, it is equal to 1 only if $a_{\\tt ik} =1$ (which means \n",
    "that there is an edge ${\\tt i\\leftarrow k}$), and $a_{\\tt kj} =1$ (which means \n",
    "that there is an edge ${\\tt k\\leftarrow j}$). In other words, $a_{\\tt ik}\\cdot  a_{\\tt kj} = 1$ precisely when we have a length 2 path \n",
    "\n",
    "$${\\tt i}\\ \\  {\\color{red}\\leftarrow} \\ \\  {\\tt k} \\ \\  {\\color{red}\\leftarrow} \\ \\  {\\tt j}$$\n",
    "\n",
    "Since the product of the  ${\\tt i}^{\\text{th}}$ row and the ${\\tt j}^{\\text{th}}$ column of the matrix $A$\n",
    "gives the  entry in the ${\\tt i}^{\\text{th}}$ row and the ${\\tt j}^{\\text{th}}$ column of the matrix $A\\cdot A$, this proves the following fact:\n",
    "\n",
    "<br/>\n",
    "\n",
    "<div class=\"bg-danger\" style=\"padding:15px; font-size:110%\">\n",
    "<p>\n",
    "<b>Proposition.</b> If $A = [a_{\\tt ij}]$ is the adjacency matrix of a network, then the entry in the ${\\tt i}^{\\text{th}}$ row and the ${\\tt j}^{\\text{th}}$ column of the matrix $A^2 = A\\cdot A$ is equal to the number of paths of length 2 which which start at the node $\\tt j$ and end at the node $\\tt i$.\n",
    "</p>\n",
    "</div>\n",
    "\n",
    "<br/>\n",
    "\n",
    "\n",
    "This can be generalized as follows:\n",
    "\n",
    "<br/>\n",
    "<div class=\"bg-danger\" style=\"padding:15px; font-size:110%\">\n",
    "<p>\n",
    "<b>Proposition.</b> Let $A = [a_{\\tt ij}]$ be the adjacency matrix of a network, and let \n",
    "$A^n = A\\cdot {\\dots}\\cdot A$ be the matrix  obtained by multiplying  $A$ by itself $n$ times.\n",
    "The entry in the ${\\tt i}^{\\text{th}}$ row and the ${\\tt j}^{\\text{th}}$ column of  $A^n$ is equal to the number of paths of length $n$ which which start at the node $\\tt j$ and end at the node $\\tt i$.\n",
    "</p>\n",
    "</div>\n",
    "\n"
   ]
  },
  {
   "cell_type": "markdown",
   "metadata": {},
   "source": [
    "## Example\n",
    "\n",
    "We will apply these results to our sample network:\n",
    "\n",
    "<br/>\n",
    "<img src=\"https://raw.githubusercontent.com/bbadzioch/MTH309_F2019/master/notebooks_2024/network.png\" style=\"width: 300px;\">\n",
    "\n",
    "<br/>\n",
    "\n",
    "\n",
    "First, we load SymPy and enter the adjacency matrix of this network:"
   ]
  },
  {
   "cell_type": "code",
   "execution_count": 1,
   "metadata": {},
   "outputs": [
    {
     "data": {
      "text/latex": [
       "$\\displaystyle \\left[\\begin{matrix}0 & 1 & 0 & 1 & 0\\\\0 & 0 & 0 & 1 & 0\\\\1 & 0 & 0 & 1 & 1\\\\0 & 1 & 1 & 0 & 1\\\\0 & 1 & 0 & 1 & 0\\end{matrix}\\right]$"
      ],
      "text/plain": [
       "⎡0  1  0  1  0⎤\n",
       "⎢             ⎥\n",
       "⎢0  0  0  1  0⎥\n",
       "⎢             ⎥\n",
       "⎢1  0  0  1  1⎥\n",
       "⎢             ⎥\n",
       "⎢0  1  1  0  1⎥\n",
       "⎢             ⎥\n",
       "⎣0  1  0  1  0⎦"
      ]
     },
     "execution_count": 1,
     "metadata": {},
     "output_type": "execute_result"
    }
   ],
   "source": [
    "from sympy import *\n",
    "init_printing(use_latex = \"mathjax\")\n",
    "\n",
    "A = Matrix([[0, 1, 0, 1, 0], [0, 0, 0, 1, 0], [1, 0, 0, 1, 1], [0, 1, 1, 0, 1], [0, 1, 0, 1, 0]])\n",
    "A"
   ]
  },
  {
   "cell_type": "markdown",
   "metadata": {},
   "source": [
    "The second power of this matrix gives the number of paths of length 2 between any two nodes:"
   ]
  },
  {
   "cell_type": "code",
   "execution_count": 2,
   "metadata": {},
   "outputs": [
    {
     "data": {
      "text/latex": [
       "$\\displaystyle \\left[\\begin{matrix}0 & 1 & 1 & 1 & 1\\\\0 & 1 & 1 & 0 & 1\\\\0 & 3 & 1 & 2 & 1\\\\1 & 1 & 0 & 3 & 1\\\\0 & 1 & 1 & 1 & 1\\end{matrix}\\right]$"
      ],
      "text/plain": [
       "⎡0  1  1  1  1⎤\n",
       "⎢             ⎥\n",
       "⎢0  1  1  0  1⎥\n",
       "⎢             ⎥\n",
       "⎢0  3  1  2  1⎥\n",
       "⎢             ⎥\n",
       "⎢1  1  0  3  1⎥\n",
       "⎢             ⎥\n",
       "⎣0  1  1  1  1⎦"
      ]
     },
     "execution_count": 2,
     "metadata": {},
     "output_type": "execute_result"
    }
   ],
   "source": [
    "A**2"
   ]
  },
  {
   "cell_type": "markdown",
   "metadata": {},
   "source": [
    "For example, the entry in the 2$^{\\text{nd}}$ column and the 3$^{\\text{rd}}$ row tells us that there are 3 paths that start at the node $\\tt 2$ and end at the node $\\tt 3$. Indeed, these paths are:\n",
    "\n",
    "$$\\tt{3\\  {\\color{red}\\leftarrow}\\  1\\  {\\color{red}\\leftarrow}\\  2 }$$\n",
    "$$\\tt{3\\  {\\color{red}\\leftarrow}\\  4\\  {\\color{red}\\leftarrow}\\  2 }$$\n",
    "$$\\tt{3\\  {\\color{red}\\leftarrow}\\  5\\  {\\color{red}\\leftarrow}\\  2 }$$"
   ]
  },
  {
   "cell_type": "markdown",
   "metadata": {},
   "source": [
    "The 20$^{\\text{th}}$ power of the matrix $A$ gives us the number of paths of length 20 between any two nodes:"
   ]
  },
  {
   "cell_type": "code",
   "execution_count": 3,
   "metadata": {},
   "outputs": [
    {
     "data": {
      "text/latex": [
       "$\\displaystyle \\left[\\begin{matrix}358198 & 1469586 & 783942 & 1715349 & 1142140\\\\245763 & 1008812 & 538179 & 1177170 & 783942\\\\573209 & 2351826 & 1254575 & 2745054 & 1827784\\\\538179 & 2206875 & 1177170 & 2576696 & 1715349\\\\358198 & 1469586 & 783942 & 1715349 & 1142140\\end{matrix}\\right]$"
      ],
      "text/plain": [
       "⎡358198  1469586  783942   1715349  1142140⎤\n",
       "⎢                                          ⎥\n",
       "⎢245763  1008812  538179   1177170  783942 ⎥\n",
       "⎢                                          ⎥\n",
       "⎢573209  2351826  1254575  2745054  1827784⎥\n",
       "⎢                                          ⎥\n",
       "⎢538179  2206875  1177170  2576696  1715349⎥\n",
       "⎢                                          ⎥\n",
       "⎣358198  1469586  783942   1715349  1142140⎦"
      ]
     },
     "execution_count": 3,
     "metadata": {},
     "output_type": "execute_result"
    }
   ],
   "source": [
    "A**20"
   ]
  },
  {
   "cell_type": "markdown",
   "metadata": {},
   "source": [
    "We see here, for example, that there are 2,351,826 paths of length 20 which start at the node $\\tt 2$ and end at the node $\\tt 3$. It would be difficult to explicitly list all these paths!"
   ]
  }
 ],
 "metadata": {
  "kernelspec": {
   "display_name": "Python 3 (ipykernel)",
   "language": "python",
   "name": "python3"
  },
  "language_info": {
   "codemirror_mode": {
    "name": "ipython",
    "version": 3
   },
   "file_extension": ".py",
   "mimetype": "text/x-python",
   "name": "python",
   "nbconvert_exporter": "python",
   "pygments_lexer": "ipython3",
   "version": "3.12.2"
  }
 },
 "nbformat": 4,
 "nbformat_minor": 4
}
